{
 "cells": [
  {
   "cell_type": "code",
   "execution_count": 55,
   "metadata": {},
   "outputs": [],
   "source": [
    "#loading required libraries\n",
    "import numpy as np\n",
    "import pandas as pd\n",
    "import matplotlib.pyplot as plt\n",
    "import seaborn as sns\n",
    "import os\n",
    "import sys\n",
    "import time\n",
    "\n",
    "%matplotlib inline\n",
    "\n",
    "import warnings\n",
    "warnings.filterwarnings('ignore')\n",
    "\n",
    "from IPython.core.interactiveshell import InteractiveShell\n",
    "InteractiveShell.ast_node_interactivity = 'all'\n",
    "\n",
    "\n",
    "plt.style.use('ggplot')"
   ]
  },
  {
   "cell_type": "code",
   "execution_count": 56,
   "metadata": {},
   "outputs": [],
   "source": [
    "from pandas import read_csv"
   ]
  },
  {
   "cell_type": "code",
   "execution_count": 57,
   "metadata": {},
   "outputs": [],
   "source": [
    "kn = read_csv(\"R:\\Spandu\\EDA_HR_DATA\\KNNData.csv\")"
   ]
  },
  {
   "cell_type": "code",
   "execution_count": 58,
   "metadata": {},
   "outputs": [
    {
     "data": {
      "text/html": [
       "<div>\n",
       "<style scoped>\n",
       "    .dataframe tbody tr th:only-of-type {\n",
       "        vertical-align: middle;\n",
       "    }\n",
       "\n",
       "    .dataframe tbody tr th {\n",
       "        vertical-align: top;\n",
       "    }\n",
       "\n",
       "    .dataframe thead th {\n",
       "        text-align: right;\n",
       "    }\n",
       "</style>\n",
       "<table border=\"1\" class=\"dataframe\">\n",
       "  <thead>\n",
       "    <tr style=\"text-align: right;\">\n",
       "      <th></th>\n",
       "      <th>WTT</th>\n",
       "      <th>PTI</th>\n",
       "      <th>EQW</th>\n",
       "      <th>SBI</th>\n",
       "      <th>LQE</th>\n",
       "      <th>QWG</th>\n",
       "      <th>FDJ</th>\n",
       "      <th>PJF</th>\n",
       "      <th>HQE</th>\n",
       "      <th>NXJ</th>\n",
       "      <th>TARGET CLASS</th>\n",
       "    </tr>\n",
       "  </thead>\n",
       "  <tbody>\n",
       "    <tr>\n",
       "      <th>0</th>\n",
       "      <td>0.913917</td>\n",
       "      <td>1.162073</td>\n",
       "      <td>0.567946</td>\n",
       "      <td>0.755464</td>\n",
       "      <td>0.780862</td>\n",
       "      <td>0.352608</td>\n",
       "      <td>0.759697</td>\n",
       "      <td>0.643798</td>\n",
       "      <td>0.879422</td>\n",
       "      <td>1.231409</td>\n",
       "      <td>1</td>\n",
       "    </tr>\n",
       "    <tr>\n",
       "      <th>1</th>\n",
       "      <td>0.635632</td>\n",
       "      <td>1.003722</td>\n",
       "      <td>0.535342</td>\n",
       "      <td>0.825645</td>\n",
       "      <td>0.924109</td>\n",
       "      <td>0.648450</td>\n",
       "      <td>0.675334</td>\n",
       "      <td>1.013546</td>\n",
       "      <td>0.621552</td>\n",
       "      <td>1.492702</td>\n",
       "      <td>0</td>\n",
       "    </tr>\n",
       "    <tr>\n",
       "      <th>2</th>\n",
       "      <td>0.721360</td>\n",
       "      <td>1.201493</td>\n",
       "      <td>0.921990</td>\n",
       "      <td>0.855595</td>\n",
       "      <td>1.526629</td>\n",
       "      <td>0.720781</td>\n",
       "      <td>1.626351</td>\n",
       "      <td>1.154483</td>\n",
       "      <td>0.957877</td>\n",
       "      <td>1.285597</td>\n",
       "      <td>0</td>\n",
       "    </tr>\n",
       "    <tr>\n",
       "      <th>3</th>\n",
       "      <td>1.234204</td>\n",
       "      <td>1.386726</td>\n",
       "      <td>0.653046</td>\n",
       "      <td>0.825624</td>\n",
       "      <td>1.142504</td>\n",
       "      <td>0.875128</td>\n",
       "      <td>1.409708</td>\n",
       "      <td>1.380003</td>\n",
       "      <td>1.522692</td>\n",
       "      <td>1.153093</td>\n",
       "      <td>1</td>\n",
       "    </tr>\n",
       "    <tr>\n",
       "      <th>4</th>\n",
       "      <td>1.279491</td>\n",
       "      <td>0.949750</td>\n",
       "      <td>0.627280</td>\n",
       "      <td>0.668976</td>\n",
       "      <td>1.232537</td>\n",
       "      <td>0.703727</td>\n",
       "      <td>1.115596</td>\n",
       "      <td>0.646691</td>\n",
       "      <td>1.463812</td>\n",
       "      <td>1.419167</td>\n",
       "      <td>1</td>\n",
       "    </tr>\n",
       "  </tbody>\n",
       "</table>\n",
       "</div>"
      ],
      "text/plain": [
       "        WTT       PTI       EQW       SBI       LQE       QWG       FDJ  \\\n",
       "0  0.913917  1.162073  0.567946  0.755464  0.780862  0.352608  0.759697   \n",
       "1  0.635632  1.003722  0.535342  0.825645  0.924109  0.648450  0.675334   \n",
       "2  0.721360  1.201493  0.921990  0.855595  1.526629  0.720781  1.626351   \n",
       "3  1.234204  1.386726  0.653046  0.825624  1.142504  0.875128  1.409708   \n",
       "4  1.279491  0.949750  0.627280  0.668976  1.232537  0.703727  1.115596   \n",
       "\n",
       "        PJF       HQE       NXJ  TARGET CLASS  \n",
       "0  0.643798  0.879422  1.231409             1  \n",
       "1  1.013546  0.621552  1.492702             0  \n",
       "2  1.154483  0.957877  1.285597             0  \n",
       "3  1.380003  1.522692  1.153093             1  \n",
       "4  0.646691  1.463812  1.419167             1  "
      ]
     },
     "execution_count": 58,
     "metadata": {},
     "output_type": "execute_result"
    },
    {
     "data": {
      "text/html": [
       "<div>\n",
       "<style scoped>\n",
       "    .dataframe tbody tr th:only-of-type {\n",
       "        vertical-align: middle;\n",
       "    }\n",
       "\n",
       "    .dataframe tbody tr th {\n",
       "        vertical-align: top;\n",
       "    }\n",
       "\n",
       "    .dataframe thead th {\n",
       "        text-align: right;\n",
       "    }\n",
       "</style>\n",
       "<table border=\"1\" class=\"dataframe\">\n",
       "  <thead>\n",
       "    <tr style=\"text-align: right;\">\n",
       "      <th></th>\n",
       "      <th>WTT</th>\n",
       "      <th>PTI</th>\n",
       "      <th>EQW</th>\n",
       "      <th>SBI</th>\n",
       "      <th>LQE</th>\n",
       "      <th>QWG</th>\n",
       "      <th>FDJ</th>\n",
       "      <th>PJF</th>\n",
       "      <th>HQE</th>\n",
       "      <th>NXJ</th>\n",
       "      <th>TARGET CLASS</th>\n",
       "    </tr>\n",
       "  </thead>\n",
       "  <tbody>\n",
       "    <tr>\n",
       "      <th>995</th>\n",
       "      <td>1.010953</td>\n",
       "      <td>1.034006</td>\n",
       "      <td>0.853116</td>\n",
       "      <td>0.622460</td>\n",
       "      <td>1.036610</td>\n",
       "      <td>0.586240</td>\n",
       "      <td>0.746811</td>\n",
       "      <td>0.319752</td>\n",
       "      <td>1.117340</td>\n",
       "      <td>1.348517</td>\n",
       "      <td>1</td>\n",
       "    </tr>\n",
       "    <tr>\n",
       "      <th>996</th>\n",
       "      <td>0.575529</td>\n",
       "      <td>0.955786</td>\n",
       "      <td>0.941835</td>\n",
       "      <td>0.792882</td>\n",
       "      <td>1.414277</td>\n",
       "      <td>1.269540</td>\n",
       "      <td>1.055928</td>\n",
       "      <td>0.713193</td>\n",
       "      <td>0.958684</td>\n",
       "      <td>1.663489</td>\n",
       "      <td>0</td>\n",
       "    </tr>\n",
       "    <tr>\n",
       "      <th>997</th>\n",
       "      <td>1.135470</td>\n",
       "      <td>0.982462</td>\n",
       "      <td>0.781905</td>\n",
       "      <td>0.916738</td>\n",
       "      <td>0.901031</td>\n",
       "      <td>0.884738</td>\n",
       "      <td>0.386802</td>\n",
       "      <td>0.389584</td>\n",
       "      <td>0.919191</td>\n",
       "      <td>1.385504</td>\n",
       "      <td>1</td>\n",
       "    </tr>\n",
       "    <tr>\n",
       "      <th>998</th>\n",
       "      <td>1.084894</td>\n",
       "      <td>0.861769</td>\n",
       "      <td>0.407158</td>\n",
       "      <td>0.665696</td>\n",
       "      <td>1.608612</td>\n",
       "      <td>0.943859</td>\n",
       "      <td>0.855806</td>\n",
       "      <td>1.061338</td>\n",
       "      <td>1.277456</td>\n",
       "      <td>1.188063</td>\n",
       "      <td>1</td>\n",
       "    </tr>\n",
       "    <tr>\n",
       "      <th>999</th>\n",
       "      <td>0.837460</td>\n",
       "      <td>0.961184</td>\n",
       "      <td>0.417006</td>\n",
       "      <td>0.799784</td>\n",
       "      <td>0.934399</td>\n",
       "      <td>0.424762</td>\n",
       "      <td>0.778234</td>\n",
       "      <td>0.907962</td>\n",
       "      <td>1.257190</td>\n",
       "      <td>1.364837</td>\n",
       "      <td>1</td>\n",
       "    </tr>\n",
       "  </tbody>\n",
       "</table>\n",
       "</div>"
      ],
      "text/plain": [
       "          WTT       PTI       EQW       SBI       LQE       QWG       FDJ  \\\n",
       "995  1.010953  1.034006  0.853116  0.622460  1.036610  0.586240  0.746811   \n",
       "996  0.575529  0.955786  0.941835  0.792882  1.414277  1.269540  1.055928   \n",
       "997  1.135470  0.982462  0.781905  0.916738  0.901031  0.884738  0.386802   \n",
       "998  1.084894  0.861769  0.407158  0.665696  1.608612  0.943859  0.855806   \n",
       "999  0.837460  0.961184  0.417006  0.799784  0.934399  0.424762  0.778234   \n",
       "\n",
       "          PJF       HQE       NXJ  TARGET CLASS  \n",
       "995  0.319752  1.117340  1.348517             1  \n",
       "996  0.713193  0.958684  1.663489             0  \n",
       "997  0.389584  0.919191  1.385504             1  \n",
       "998  1.061338  1.277456  1.188063             1  \n",
       "999  0.907962  1.257190  1.364837             1  "
      ]
     },
     "execution_count": 58,
     "metadata": {},
     "output_type": "execute_result"
    }
   ],
   "source": [
    "kn.head()\n",
    "kn.tail()"
   ]
  },
  {
   "cell_type": "code",
   "execution_count": 59,
   "metadata": {},
   "outputs": [
    {
     "data": {
      "text/plain": [
       "Index(['WTT', 'PTI', 'EQW', 'SBI', 'LQE', 'QWG', 'FDJ', 'PJF', 'HQE', 'NXJ',\n",
       "       'TARGET CLASS'],\n",
       "      dtype='object')"
      ]
     },
     "execution_count": 59,
     "metadata": {},
     "output_type": "execute_result"
    }
   ],
   "source": [
    "kn.columns"
   ]
  },
  {
   "cell_type": "code",
   "execution_count": 60,
   "metadata": {
    "collapsed": true
   },
   "outputs": [
    {
     "name": "stdout",
     "output_type": "stream",
     "text": [
      "<class 'pandas.core.frame.DataFrame'>\n",
      "RangeIndex: 1000 entries, 0 to 999\n",
      "Data columns (total 11 columns):\n",
      "WTT             1000 non-null float64\n",
      "PTI             1000 non-null float64\n",
      "EQW             1000 non-null float64\n",
      "SBI             1000 non-null float64\n",
      "LQE             1000 non-null float64\n",
      "QWG             1000 non-null float64\n",
      "FDJ             1000 non-null float64\n",
      "PJF             1000 non-null float64\n",
      "HQE             1000 non-null float64\n",
      "NXJ             1000 non-null float64\n",
      "TARGET CLASS    1000 non-null int64\n",
      "dtypes: float64(10), int64(1)\n",
      "memory usage: 86.0 KB\n"
     ]
    }
   ],
   "source": [
    "kn.info()"
   ]
  },
  {
   "cell_type": "code",
   "execution_count": 61,
   "metadata": {},
   "outputs": [
    {
     "data": {
      "text/plain": [
       "(1000, 11)"
      ]
     },
     "execution_count": 61,
     "metadata": {},
     "output_type": "execute_result"
    }
   ],
   "source": [
    "kn.shape"
   ]
  },
  {
   "cell_type": "code",
   "execution_count": 62,
   "metadata": {},
   "outputs": [
    {
     "data": {
      "text/plain": [
       "1000"
      ]
     },
     "execution_count": 62,
     "metadata": {},
     "output_type": "execute_result"
    }
   ],
   "source": [
    "len(kn)"
   ]
  },
  {
   "cell_type": "code",
   "execution_count": 63,
   "metadata": {
    "collapsed": true
   },
   "outputs": [
    {
     "data": {
      "text/html": [
       "<div>\n",
       "<style scoped>\n",
       "    .dataframe tbody tr th:only-of-type {\n",
       "        vertical-align: middle;\n",
       "    }\n",
       "\n",
       "    .dataframe tbody tr th {\n",
       "        vertical-align: top;\n",
       "    }\n",
       "\n",
       "    .dataframe thead th {\n",
       "        text-align: right;\n",
       "    }\n",
       "</style>\n",
       "<table border=\"1\" class=\"dataframe\">\n",
       "  <thead>\n",
       "    <tr style=\"text-align: right;\">\n",
       "      <th></th>\n",
       "      <th>WTT</th>\n",
       "      <th>PTI</th>\n",
       "      <th>EQW</th>\n",
       "      <th>SBI</th>\n",
       "      <th>LQE</th>\n",
       "      <th>QWG</th>\n",
       "      <th>FDJ</th>\n",
       "      <th>PJF</th>\n",
       "      <th>HQE</th>\n",
       "      <th>NXJ</th>\n",
       "      <th>TARGET CLASS</th>\n",
       "    </tr>\n",
       "  </thead>\n",
       "  <tbody>\n",
       "    <tr>\n",
       "      <th>count</th>\n",
       "      <td>1000.000000</td>\n",
       "      <td>1000.000000</td>\n",
       "      <td>1000.000000</td>\n",
       "      <td>1000.000000</td>\n",
       "      <td>1000.000000</td>\n",
       "      <td>1000.000000</td>\n",
       "      <td>1000.000000</td>\n",
       "      <td>1000.000000</td>\n",
       "      <td>1000.000000</td>\n",
       "      <td>1000.000000</td>\n",
       "      <td>1000.00000</td>\n",
       "    </tr>\n",
       "    <tr>\n",
       "      <th>mean</th>\n",
       "      <td>0.949682</td>\n",
       "      <td>1.114303</td>\n",
       "      <td>0.834127</td>\n",
       "      <td>0.682099</td>\n",
       "      <td>1.032336</td>\n",
       "      <td>0.943534</td>\n",
       "      <td>0.963422</td>\n",
       "      <td>1.071960</td>\n",
       "      <td>1.158251</td>\n",
       "      <td>1.362725</td>\n",
       "      <td>0.50000</td>\n",
       "    </tr>\n",
       "    <tr>\n",
       "      <th>std</th>\n",
       "      <td>0.289635</td>\n",
       "      <td>0.257085</td>\n",
       "      <td>0.291554</td>\n",
       "      <td>0.229645</td>\n",
       "      <td>0.243413</td>\n",
       "      <td>0.256121</td>\n",
       "      <td>0.255118</td>\n",
       "      <td>0.288982</td>\n",
       "      <td>0.293738</td>\n",
       "      <td>0.204225</td>\n",
       "      <td>0.50025</td>\n",
       "    </tr>\n",
       "    <tr>\n",
       "      <th>min</th>\n",
       "      <td>0.174412</td>\n",
       "      <td>0.441398</td>\n",
       "      <td>0.170924</td>\n",
       "      <td>0.045027</td>\n",
       "      <td>0.315307</td>\n",
       "      <td>0.262389</td>\n",
       "      <td>0.295228</td>\n",
       "      <td>0.299476</td>\n",
       "      <td>0.365157</td>\n",
       "      <td>0.639693</td>\n",
       "      <td>0.00000</td>\n",
       "    </tr>\n",
       "    <tr>\n",
       "      <th>25%</th>\n",
       "      <td>0.742358</td>\n",
       "      <td>0.942071</td>\n",
       "      <td>0.615451</td>\n",
       "      <td>0.515010</td>\n",
       "      <td>0.870855</td>\n",
       "      <td>0.761064</td>\n",
       "      <td>0.784407</td>\n",
       "      <td>0.866306</td>\n",
       "      <td>0.934340</td>\n",
       "      <td>1.222623</td>\n",
       "      <td>0.00000</td>\n",
       "    </tr>\n",
       "    <tr>\n",
       "      <th>50%</th>\n",
       "      <td>0.940475</td>\n",
       "      <td>1.118486</td>\n",
       "      <td>0.813264</td>\n",
       "      <td>0.676835</td>\n",
       "      <td>1.035824</td>\n",
       "      <td>0.941502</td>\n",
       "      <td>0.945333</td>\n",
       "      <td>1.065500</td>\n",
       "      <td>1.165556</td>\n",
       "      <td>1.375368</td>\n",
       "      <td>0.50000</td>\n",
       "    </tr>\n",
       "    <tr>\n",
       "      <th>75%</th>\n",
       "      <td>1.163295</td>\n",
       "      <td>1.307904</td>\n",
       "      <td>1.028340</td>\n",
       "      <td>0.834317</td>\n",
       "      <td>1.198270</td>\n",
       "      <td>1.123060</td>\n",
       "      <td>1.134852</td>\n",
       "      <td>1.283156</td>\n",
       "      <td>1.383173</td>\n",
       "      <td>1.504832</td>\n",
       "      <td>1.00000</td>\n",
       "    </tr>\n",
       "    <tr>\n",
       "      <th>max</th>\n",
       "      <td>1.721779</td>\n",
       "      <td>1.833757</td>\n",
       "      <td>1.722725</td>\n",
       "      <td>1.634884</td>\n",
       "      <td>1.650050</td>\n",
       "      <td>1.666902</td>\n",
       "      <td>1.713342</td>\n",
       "      <td>1.785420</td>\n",
       "      <td>1.885690</td>\n",
       "      <td>1.893950</td>\n",
       "      <td>1.00000</td>\n",
       "    </tr>\n",
       "  </tbody>\n",
       "</table>\n",
       "</div>"
      ],
      "text/plain": [
       "               WTT          PTI          EQW          SBI          LQE  \\\n",
       "count  1000.000000  1000.000000  1000.000000  1000.000000  1000.000000   \n",
       "mean      0.949682     1.114303     0.834127     0.682099     1.032336   \n",
       "std       0.289635     0.257085     0.291554     0.229645     0.243413   \n",
       "min       0.174412     0.441398     0.170924     0.045027     0.315307   \n",
       "25%       0.742358     0.942071     0.615451     0.515010     0.870855   \n",
       "50%       0.940475     1.118486     0.813264     0.676835     1.035824   \n",
       "75%       1.163295     1.307904     1.028340     0.834317     1.198270   \n",
       "max       1.721779     1.833757     1.722725     1.634884     1.650050   \n",
       "\n",
       "               QWG          FDJ          PJF          HQE          NXJ  \\\n",
       "count  1000.000000  1000.000000  1000.000000  1000.000000  1000.000000   \n",
       "mean      0.943534     0.963422     1.071960     1.158251     1.362725   \n",
       "std       0.256121     0.255118     0.288982     0.293738     0.204225   \n",
       "min       0.262389     0.295228     0.299476     0.365157     0.639693   \n",
       "25%       0.761064     0.784407     0.866306     0.934340     1.222623   \n",
       "50%       0.941502     0.945333     1.065500     1.165556     1.375368   \n",
       "75%       1.123060     1.134852     1.283156     1.383173     1.504832   \n",
       "max       1.666902     1.713342     1.785420     1.885690     1.893950   \n",
       "\n",
       "       TARGET CLASS  \n",
       "count    1000.00000  \n",
       "mean        0.50000  \n",
       "std         0.50025  \n",
       "min         0.00000  \n",
       "25%         0.00000  \n",
       "50%         0.50000  \n",
       "75%         1.00000  \n",
       "max         1.00000  "
      ]
     },
     "execution_count": 63,
     "metadata": {},
     "output_type": "execute_result"
    }
   ],
   "source": [
    "kn.describe()"
   ]
  },
  {
   "cell_type": "code",
   "execution_count": 64,
   "metadata": {
    "collapsed": true
   },
   "outputs": [
    {
     "data": {
      "text/plain": [
       "WTT             0\n",
       "PTI             0\n",
       "EQW             0\n",
       "SBI             0\n",
       "LQE             0\n",
       "QWG             0\n",
       "FDJ             0\n",
       "PJF             0\n",
       "HQE             0\n",
       "NXJ             0\n",
       "TARGET CLASS    0\n",
       "dtype: int64"
      ]
     },
     "execution_count": 64,
     "metadata": {},
     "output_type": "execute_result"
    }
   ],
   "source": [
    "kn.isna().sum()"
   ]
  },
  {
   "cell_type": "code",
   "execution_count": 65,
   "metadata": {},
   "outputs": [
    {
     "data": {
      "text/plain": [
       "1    500\n",
       "0    500\n",
       "Name: TARGET CLASS, dtype: int64"
      ]
     },
     "execution_count": 65,
     "metadata": {},
     "output_type": "execute_result"
    }
   ],
   "source": [
    "kn['TARGET CLASS'].value_counts()# the dataset is balanced so need of doing pca"
   ]
  },
  {
   "cell_type": "code",
   "execution_count": 66,
   "metadata": {
    "collapsed": true
   },
   "outputs": [
    {
     "data": {
      "text/html": [
       "<div>\n",
       "<style scoped>\n",
       "    .dataframe tbody tr th:only-of-type {\n",
       "        vertical-align: middle;\n",
       "    }\n",
       "\n",
       "    .dataframe tbody tr th {\n",
       "        vertical-align: top;\n",
       "    }\n",
       "\n",
       "    .dataframe thead th {\n",
       "        text-align: right;\n",
       "    }\n",
       "</style>\n",
       "<table border=\"1\" class=\"dataframe\">\n",
       "  <thead>\n",
       "    <tr style=\"text-align: right;\">\n",
       "      <th></th>\n",
       "      <th>WTT</th>\n",
       "      <th>PTI</th>\n",
       "      <th>EQW</th>\n",
       "      <th>SBI</th>\n",
       "      <th>LQE</th>\n",
       "      <th>QWG</th>\n",
       "      <th>FDJ</th>\n",
       "      <th>PJF</th>\n",
       "      <th>HQE</th>\n",
       "      <th>NXJ</th>\n",
       "      <th>TARGET CLASS</th>\n",
       "    </tr>\n",
       "  </thead>\n",
       "  <tbody>\n",
       "    <tr>\n",
       "      <th>WTT</th>\n",
       "      <td>1.000000</td>\n",
       "      <td>-0.235255</td>\n",
       "      <td>-0.301018</td>\n",
       "      <td>-0.101517</td>\n",
       "      <td>-0.083401</td>\n",
       "      <td>-0.183628</td>\n",
       "      <td>-0.148100</td>\n",
       "      <td>-0.330977</td>\n",
       "      <td>0.324981</td>\n",
       "      <td>-0.073889</td>\n",
       "      <td>0.551394</td>\n",
       "    </tr>\n",
       "    <tr>\n",
       "      <th>PTI</th>\n",
       "      <td>-0.235255</td>\n",
       "      <td>1.000000</td>\n",
       "      <td>0.271908</td>\n",
       "      <td>0.001580</td>\n",
       "      <td>0.097322</td>\n",
       "      <td>0.173701</td>\n",
       "      <td>0.095060</td>\n",
       "      <td>0.246387</td>\n",
       "      <td>-0.266242</td>\n",
       "      <td>0.035834</td>\n",
       "      <td>-0.468748</td>\n",
       "    </tr>\n",
       "    <tr>\n",
       "      <th>EQW</th>\n",
       "      <td>-0.301018</td>\n",
       "      <td>0.271908</td>\n",
       "      <td>1.000000</td>\n",
       "      <td>-0.040291</td>\n",
       "      <td>0.144539</td>\n",
       "      <td>0.182021</td>\n",
       "      <td>0.059533</td>\n",
       "      <td>0.323857</td>\n",
       "      <td>-0.324656</td>\n",
       "      <td>0.126143</td>\n",
       "      <td>-0.598120</td>\n",
       "    </tr>\n",
       "    <tr>\n",
       "      <th>SBI</th>\n",
       "      <td>-0.101517</td>\n",
       "      <td>0.001580</td>\n",
       "      <td>-0.040291</td>\n",
       "      <td>1.000000</td>\n",
       "      <td>-0.007983</td>\n",
       "      <td>0.022026</td>\n",
       "      <td>-0.007666</td>\n",
       "      <td>0.037767</td>\n",
       "      <td>0.078032</td>\n",
       "      <td>0.145045</td>\n",
       "      <td>0.028874</td>\n",
       "    </tr>\n",
       "    <tr>\n",
       "      <th>LQE</th>\n",
       "      <td>-0.083401</td>\n",
       "      <td>0.097322</td>\n",
       "      <td>0.144539</td>\n",
       "      <td>-0.007983</td>\n",
       "      <td>1.000000</td>\n",
       "      <td>0.049944</td>\n",
       "      <td>0.035750</td>\n",
       "      <td>0.083734</td>\n",
       "      <td>-0.143929</td>\n",
       "      <td>0.044496</td>\n",
       "      <td>-0.205043</td>\n",
       "    </tr>\n",
       "    <tr>\n",
       "      <th>QWG</th>\n",
       "      <td>-0.183628</td>\n",
       "      <td>0.173701</td>\n",
       "      <td>0.182021</td>\n",
       "      <td>0.022026</td>\n",
       "      <td>0.049944</td>\n",
       "      <td>1.000000</td>\n",
       "      <td>0.098062</td>\n",
       "      <td>0.199189</td>\n",
       "      <td>-0.181809</td>\n",
       "      <td>0.036078</td>\n",
       "      <td>-0.327664</td>\n",
       "    </tr>\n",
       "    <tr>\n",
       "      <th>FDJ</th>\n",
       "      <td>-0.148100</td>\n",
       "      <td>0.095060</td>\n",
       "      <td>0.059533</td>\n",
       "      <td>-0.007666</td>\n",
       "      <td>0.035750</td>\n",
       "      <td>0.098062</td>\n",
       "      <td>1.000000</td>\n",
       "      <td>0.122888</td>\n",
       "      <td>-0.116969</td>\n",
       "      <td>-0.012923</td>\n",
       "      <td>-0.214885</td>\n",
       "    </tr>\n",
       "    <tr>\n",
       "      <th>PJF</th>\n",
       "      <td>-0.330977</td>\n",
       "      <td>0.246387</td>\n",
       "      <td>0.323857</td>\n",
       "      <td>0.037767</td>\n",
       "      <td>0.083734</td>\n",
       "      <td>0.199189</td>\n",
       "      <td>0.122888</td>\n",
       "      <td>1.000000</td>\n",
       "      <td>-0.363736</td>\n",
       "      <td>0.028012</td>\n",
       "      <td>-0.571483</td>\n",
       "    </tr>\n",
       "    <tr>\n",
       "      <th>HQE</th>\n",
       "      <td>0.324981</td>\n",
       "      <td>-0.266242</td>\n",
       "      <td>-0.324656</td>\n",
       "      <td>0.078032</td>\n",
       "      <td>-0.143929</td>\n",
       "      <td>-0.181809</td>\n",
       "      <td>-0.116969</td>\n",
       "      <td>-0.363736</td>\n",
       "      <td>1.000000</td>\n",
       "      <td>-0.129283</td>\n",
       "      <td>0.643989</td>\n",
       "    </tr>\n",
       "    <tr>\n",
       "      <th>NXJ</th>\n",
       "      <td>-0.073889</td>\n",
       "      <td>0.035834</td>\n",
       "      <td>0.126143</td>\n",
       "      <td>0.145045</td>\n",
       "      <td>0.044496</td>\n",
       "      <td>0.036078</td>\n",
       "      <td>-0.012923</td>\n",
       "      <td>0.028012</td>\n",
       "      <td>-0.129283</td>\n",
       "      <td>1.000000</td>\n",
       "      <td>-0.111730</td>\n",
       "    </tr>\n",
       "    <tr>\n",
       "      <th>TARGET CLASS</th>\n",
       "      <td>0.551394</td>\n",
       "      <td>-0.468748</td>\n",
       "      <td>-0.598120</td>\n",
       "      <td>0.028874</td>\n",
       "      <td>-0.205043</td>\n",
       "      <td>-0.327664</td>\n",
       "      <td>-0.214885</td>\n",
       "      <td>-0.571483</td>\n",
       "      <td>0.643989</td>\n",
       "      <td>-0.111730</td>\n",
       "      <td>1.000000</td>\n",
       "    </tr>\n",
       "  </tbody>\n",
       "</table>\n",
       "</div>"
      ],
      "text/plain": [
       "                   WTT       PTI       EQW       SBI       LQE       QWG  \\\n",
       "WTT           1.000000 -0.235255 -0.301018 -0.101517 -0.083401 -0.183628   \n",
       "PTI          -0.235255  1.000000  0.271908  0.001580  0.097322  0.173701   \n",
       "EQW          -0.301018  0.271908  1.000000 -0.040291  0.144539  0.182021   \n",
       "SBI          -0.101517  0.001580 -0.040291  1.000000 -0.007983  0.022026   \n",
       "LQE          -0.083401  0.097322  0.144539 -0.007983  1.000000  0.049944   \n",
       "QWG          -0.183628  0.173701  0.182021  0.022026  0.049944  1.000000   \n",
       "FDJ          -0.148100  0.095060  0.059533 -0.007666  0.035750  0.098062   \n",
       "PJF          -0.330977  0.246387  0.323857  0.037767  0.083734  0.199189   \n",
       "HQE           0.324981 -0.266242 -0.324656  0.078032 -0.143929 -0.181809   \n",
       "NXJ          -0.073889  0.035834  0.126143  0.145045  0.044496  0.036078   \n",
       "TARGET CLASS  0.551394 -0.468748 -0.598120  0.028874 -0.205043 -0.327664   \n",
       "\n",
       "                   FDJ       PJF       HQE       NXJ  TARGET CLASS  \n",
       "WTT          -0.148100 -0.330977  0.324981 -0.073889      0.551394  \n",
       "PTI           0.095060  0.246387 -0.266242  0.035834     -0.468748  \n",
       "EQW           0.059533  0.323857 -0.324656  0.126143     -0.598120  \n",
       "SBI          -0.007666  0.037767  0.078032  0.145045      0.028874  \n",
       "LQE           0.035750  0.083734 -0.143929  0.044496     -0.205043  \n",
       "QWG           0.098062  0.199189 -0.181809  0.036078     -0.327664  \n",
       "FDJ           1.000000  0.122888 -0.116969 -0.012923     -0.214885  \n",
       "PJF           0.122888  1.000000 -0.363736  0.028012     -0.571483  \n",
       "HQE          -0.116969 -0.363736  1.000000 -0.129283      0.643989  \n",
       "NXJ          -0.012923  0.028012 -0.129283  1.000000     -0.111730  \n",
       "TARGET CLASS -0.214885 -0.571483  0.643989 -0.111730      1.000000  "
      ]
     },
     "execution_count": 66,
     "metadata": {},
     "output_type": "execute_result"
    }
   ],
   "source": [
    "kn.corr()"
   ]
  },
  {
   "cell_type": "code",
   "execution_count": 67,
   "metadata": {
    "collapsed": true
   },
   "outputs": [
    {
     "data": {
      "image/png": "[encoded data removed]",
      "text/plain": [
       "<Figure size 1080x360 with 1 Axes>"
      ]
     },
     "metadata": {},
     "output_type": "display_data"
    }
   ],
   "source": [
    "plt.figure(figsize=(15,5))\n",
    "sns.heatmap(kn.corr(),cbar=False,annot=True,fmt='g');\n",
    "\n",
    "# no multicolinarity between the variables"
   ]
  },
  {
   "cell_type": "code",
   "execution_count": 68,
   "metadata": {},
   "outputs": [],
   "source": [
    "from sklearn.preprocessing import StandardScaler "
   ]
  },
  {
   "cell_type": "code",
   "execution_count": 69,
   "metadata": {},
   "outputs": [],
   "source": [
    "sc = StandardScaler()\n",
    "sc_f=sc.fit(kn.drop('TARGET CLASS',axis = 1))"
   ]
  },
  {
   "cell_type": "code",
   "execution_count": 70,
   "metadata": {
    "collapsed": true
   },
   "outputs": [
    {
     "name": "stdout",
     "output_type": "stream",
     "text": [
      "[[-0.12354188  0.18590747 -0.91343069 ... -1.48236813 -0.9497194\n",
      "  -0.64331425]\n",
      " [-1.08483602 -0.43034845 -1.02531333 ... -0.20224031 -1.82805088\n",
      "   0.63675862]\n",
      " [-0.78870217  0.33931821  0.30151137 ...  0.28570652 -0.68249379\n",
      "  -0.37784987]\n",
      " ...\n",
      " [ 0.64177715 -0.51308341 -0.17920486 ... -2.36249443 -0.81426092\n",
      "   0.11159651]\n",
      " [ 0.46707241 -0.98278576 -1.46519359 ... -0.03677699  0.40602454\n",
      "  -0.85567   ]\n",
      " [-0.38765353 -0.59589427 -1.43139809 ... -0.56778932  0.3369971\n",
      "   0.01034996]]\n"
     ]
    }
   ],
   "source": [
    "scaled=sc_f.transform(kn.drop(\"TARGET CLASS\",axis=1))\n",
    "print(scaled)"
   ]
  },
  {
   "cell_type": "code",
   "execution_count": 71,
   "metadata": {},
   "outputs": [
    {
     "data": {
      "text/plain": [
       "Index(['WTT', 'PTI', 'EQW', 'SBI', 'LQE', 'QWG', 'FDJ', 'PJF', 'HQE', 'NXJ'], dtype='object')"
      ]
     },
     "execution_count": 71,
     "metadata": {},
     "output_type": "execute_result"
    }
   ],
   "source": [
    "kn.columns[:-1]#except the target column"
   ]
  },
  {
   "cell_type": "code",
   "execution_count": 79,
   "metadata": {},
   "outputs": [],
   "source": [
    "kn_final = pd.DataFrame(scaled,columns = kn.columns[:-1])\n",
    "\n",
    "kn_fianl1 = pd.concat([kn_final,kn['TARGET CLASS']],axis = 1)"
   ]
  },
  {
   "cell_type": "code",
   "execution_count": 80,
   "metadata": {
    "collapsed": true
   },
   "outputs": [
    {
     "data": {
      "text/html": [
       "<div>\n",
       "<style scoped>\n",
       "    .dataframe tbody tr th:only-of-type {\n",
       "        vertical-align: middle;\n",
       "    }\n",
       "\n",
       "    .dataframe tbody tr th {\n",
       "        vertical-align: top;\n",
       "    }\n",
       "\n",
       "    .dataframe thead th {\n",
       "        text-align: right;\n",
       "    }\n",
       "</style>\n",
       "<table border=\"1\" class=\"dataframe\">\n",
       "  <thead>\n",
       "    <tr style=\"text-align: right;\">\n",
       "      <th></th>\n",
       "      <th>WTT</th>\n",
       "      <th>PTI</th>\n",
       "      <th>EQW</th>\n",
       "      <th>SBI</th>\n",
       "      <th>LQE</th>\n",
       "      <th>QWG</th>\n",
       "      <th>FDJ</th>\n",
       "      <th>PJF</th>\n",
       "      <th>HQE</th>\n",
       "      <th>NXJ</th>\n",
       "      <th>TARGET CLASS</th>\n",
       "    </tr>\n",
       "  </thead>\n",
       "  <tbody>\n",
       "    <tr>\n",
       "      <th>0</th>\n",
       "      <td>-0.123542</td>\n",
       "      <td>0.185907</td>\n",
       "      <td>-0.913431</td>\n",
       "      <td>0.319629</td>\n",
       "      <td>-1.033637</td>\n",
       "      <td>-2.308375</td>\n",
       "      <td>-0.798951</td>\n",
       "      <td>-1.482368</td>\n",
       "      <td>-0.949719</td>\n",
       "      <td>-0.643314</td>\n",
       "      <td>1</td>\n",
       "    </tr>\n",
       "    <tr>\n",
       "      <th>1</th>\n",
       "      <td>-1.084836</td>\n",
       "      <td>-0.430348</td>\n",
       "      <td>-1.025313</td>\n",
       "      <td>0.625388</td>\n",
       "      <td>-0.444847</td>\n",
       "      <td>-1.152706</td>\n",
       "      <td>-1.129797</td>\n",
       "      <td>-0.202240</td>\n",
       "      <td>-1.828051</td>\n",
       "      <td>0.636759</td>\n",
       "      <td>0</td>\n",
       "    </tr>\n",
       "    <tr>\n",
       "      <th>2</th>\n",
       "      <td>-0.788702</td>\n",
       "      <td>0.339318</td>\n",
       "      <td>0.301511</td>\n",
       "      <td>0.755873</td>\n",
       "      <td>2.031693</td>\n",
       "      <td>-0.870156</td>\n",
       "      <td>2.599818</td>\n",
       "      <td>0.285707</td>\n",
       "      <td>-0.682494</td>\n",
       "      <td>-0.377850</td>\n",
       "      <td>0</td>\n",
       "    </tr>\n",
       "    <tr>\n",
       "      <th>3</th>\n",
       "      <td>0.982841</td>\n",
       "      <td>1.060193</td>\n",
       "      <td>-0.621399</td>\n",
       "      <td>0.625299</td>\n",
       "      <td>0.452820</td>\n",
       "      <td>-0.267220</td>\n",
       "      <td>1.750208</td>\n",
       "      <td>1.066491</td>\n",
       "      <td>1.241325</td>\n",
       "      <td>-1.026987</td>\n",
       "      <td>1</td>\n",
       "    </tr>\n",
       "    <tr>\n",
       "      <th>4</th>\n",
       "      <td>1.139275</td>\n",
       "      <td>-0.640392</td>\n",
       "      <td>-0.709819</td>\n",
       "      <td>-0.057175</td>\n",
       "      <td>0.822886</td>\n",
       "      <td>-0.936773</td>\n",
       "      <td>0.596782</td>\n",
       "      <td>-1.472352</td>\n",
       "      <td>1.040772</td>\n",
       "      <td>0.276510</td>\n",
       "      <td>1</td>\n",
       "    </tr>\n",
       "    <tr>\n",
       "      <th>5</th>\n",
       "      <td>-0.399853</td>\n",
       "      <td>1.591707</td>\n",
       "      <td>0.928649</td>\n",
       "      <td>1.477102</td>\n",
       "      <td>0.308440</td>\n",
       "      <td>0.263270</td>\n",
       "      <td>1.239716</td>\n",
       "      <td>0.722608</td>\n",
       "      <td>-2.206816</td>\n",
       "      <td>0.809900</td>\n",
       "      <td>0</td>\n",
       "    </tr>\n",
       "    <tr>\n",
       "      <th>6</th>\n",
       "      <td>-0.017189</td>\n",
       "      <td>0.534949</td>\n",
       "      <td>0.826189</td>\n",
       "      <td>-1.723636</td>\n",
       "      <td>-0.147547</td>\n",
       "      <td>-2.010505</td>\n",
       "      <td>-0.206348</td>\n",
       "      <td>-1.096313</td>\n",
       "      <td>-0.158215</td>\n",
       "      <td>-1.233974</td>\n",
       "      <td>0</td>\n",
       "    </tr>\n",
       "    <tr>\n",
       "      <th>7</th>\n",
       "      <td>-0.461182</td>\n",
       "      <td>-0.100835</td>\n",
       "      <td>0.210071</td>\n",
       "      <td>-1.909291</td>\n",
       "      <td>-0.366695</td>\n",
       "      <td>0.396875</td>\n",
       "      <td>0.718122</td>\n",
       "      <td>0.934523</td>\n",
       "      <td>0.228458</td>\n",
       "      <td>0.308929</td>\n",
       "      <td>0</td>\n",
       "    </tr>\n",
       "    <tr>\n",
       "      <th>8</th>\n",
       "      <td>-0.598054</td>\n",
       "      <td>1.360189</td>\n",
       "      <td>-0.172618</td>\n",
       "      <td>-1.502292</td>\n",
       "      <td>-1.192485</td>\n",
       "      <td>0.504787</td>\n",
       "      <td>-0.325981</td>\n",
       "      <td>0.834346</td>\n",
       "      <td>-0.136536</td>\n",
       "      <td>-0.670199</td>\n",
       "      <td>0</td>\n",
       "    </tr>\n",
       "    <tr>\n",
       "      <th>9</th>\n",
       "      <td>-0.612806</td>\n",
       "      <td>-2.331876</td>\n",
       "      <td>0.197211</td>\n",
       "      <td>1.127356</td>\n",
       "      <td>1.636853</td>\n",
       "      <td>-0.225233</td>\n",
       "      <td>0.948308</td>\n",
       "      <td>-1.644881</td>\n",
       "      <td>1.309064</td>\n",
       "      <td>-1.865764</td>\n",
       "      <td>1</td>\n",
       "    </tr>\n",
       "    <tr>\n",
       "      <th>10</th>\n",
       "      <td>1.158303</td>\n",
       "      <td>0.843392</td>\n",
       "      <td>-0.738540</td>\n",
       "      <td>-0.109278</td>\n",
       "      <td>0.019954</td>\n",
       "      <td>-0.883576</td>\n",
       "      <td>-0.725209</td>\n",
       "      <td>-1.636366</td>\n",
       "      <td>0.297779</td>\n",
       "      <td>0.386875</td>\n",
       "      <td>1</td>\n",
       "    </tr>\n",
       "    <tr>\n",
       "      <th>11</th>\n",
       "      <td>0.396126</td>\n",
       "      <td>1.169777</td>\n",
       "      <td>0.215062</td>\n",
       "      <td>-0.230956</td>\n",
       "      <td>1.707287</td>\n",
       "      <td>-0.592248</td>\n",
       "      <td>-0.163717</td>\n",
       "      <td>0.572255</td>\n",
       "      <td>-2.023123</td>\n",
       "      <td>0.298564</td>\n",
       "      <td>0</td>\n",
       "    </tr>\n",
       "    <tr>\n",
       "      <th>12</th>\n",
       "      <td>-0.921372</td>\n",
       "      <td>0.546474</td>\n",
       "      <td>0.565336</td>\n",
       "      <td>-1.239044</td>\n",
       "      <td>-0.085144</td>\n",
       "      <td>-1.467510</td>\n",
       "      <td>1.457694</td>\n",
       "      <td>0.075387</td>\n",
       "      <td>-1.060100</td>\n",
       "      <td>0.059053</td>\n",
       "      <td>0</td>\n",
       "    </tr>\n",
       "    <tr>\n",
       "      <th>13</th>\n",
       "      <td>0.012562</td>\n",
       "      <td>0.796571</td>\n",
       "      <td>-0.930673</td>\n",
       "      <td>0.973308</td>\n",
       "      <td>0.887731</td>\n",
       "      <td>-1.038074</td>\n",
       "      <td>0.211314</td>\n",
       "      <td>-1.883052</td>\n",
       "      <td>1.306107</td>\n",
       "      <td>-1.194205</td>\n",
       "      <td>1</td>\n",
       "    </tr>\n",
       "    <tr>\n",
       "      <th>14</th>\n",
       "      <td>-0.512670</td>\n",
       "      <td>-0.692383</td>\n",
       "      <td>-0.470705</td>\n",
       "      <td>1.264935</td>\n",
       "      <td>-0.744117</td>\n",
       "      <td>1.951558</td>\n",
       "      <td>0.906128</td>\n",
       "      <td>1.971821</td>\n",
       "      <td>-0.134587</td>\n",
       "      <td>0.312793</td>\n",
       "      <td>0</td>\n",
       "    </tr>\n",
       "    <tr>\n",
       "      <th>15</th>\n",
       "      <td>0.386919</td>\n",
       "      <td>-0.270127</td>\n",
       "      <td>-0.804363</td>\n",
       "      <td>-0.944600</td>\n",
       "      <td>-0.419448</td>\n",
       "      <td>0.120341</td>\n",
       "      <td>0.980539</td>\n",
       "      <td>0.607923</td>\n",
       "      <td>0.202234</td>\n",
       "      <td>1.275846</td>\n",
       "      <td>1</td>\n",
       "    </tr>\n",
       "    <tr>\n",
       "      <th>16</th>\n",
       "      <td>-0.808444</td>\n",
       "      <td>1.028545</td>\n",
       "      <td>0.561652</td>\n",
       "      <td>-0.030947</td>\n",
       "      <td>0.808052</td>\n",
       "      <td>1.092841</td>\n",
       "      <td>-1.467019</td>\n",
       "      <td>1.689324</td>\n",
       "      <td>-1.065861</td>\n",
       "      <td>-0.558538</td>\n",
       "      <td>0</td>\n",
       "    </tr>\n",
       "    <tr>\n",
       "      <th>17</th>\n",
       "      <td>-0.172337</td>\n",
       "      <td>0.434208</td>\n",
       "      <td>1.704690</td>\n",
       "      <td>-1.507906</td>\n",
       "      <td>0.991544</td>\n",
       "      <td>0.612621</td>\n",
       "      <td>0.220380</td>\n",
       "      <td>0.526007</td>\n",
       "      <td>-0.152626</td>\n",
       "      <td>0.624265</td>\n",
       "      <td>0</td>\n",
       "    </tr>\n",
       "    <tr>\n",
       "      <th>18</th>\n",
       "      <td>-0.227533</td>\n",
       "      <td>0.628856</td>\n",
       "      <td>0.308635</td>\n",
       "      <td>-0.057883</td>\n",
       "      <td>0.972846</td>\n",
       "      <td>1.713172</td>\n",
       "      <td>-0.922135</td>\n",
       "      <td>-1.195267</td>\n",
       "      <td>-0.621333</td>\n",
       "      <td>1.426053</td>\n",
       "      <td>0</td>\n",
       "    </tr>\n",
       "    <tr>\n",
       "      <th>19</th>\n",
       "      <td>-0.626517</td>\n",
       "      <td>1.089683</td>\n",
       "      <td>-0.037780</td>\n",
       "      <td>-0.305089</td>\n",
       "      <td>0.966241</td>\n",
       "      <td>-0.240596</td>\n",
       "      <td>0.552006</td>\n",
       "      <td>2.039341</td>\n",
       "      <td>-1.414778</td>\n",
       "      <td>-1.293438</td>\n",
       "      <td>0</td>\n",
       "    </tr>\n",
       "    <tr>\n",
       "      <th>20</th>\n",
       "      <td>1.047297</td>\n",
       "      <td>2.130779</td>\n",
       "      <td>0.302225</td>\n",
       "      <td>0.840850</td>\n",
       "      <td>1.568143</td>\n",
       "      <td>1.511576</td>\n",
       "      <td>-0.259417</td>\n",
       "      <td>0.723631</td>\n",
       "      <td>-1.434843</td>\n",
       "      <td>-0.831651</td>\n",
       "      <td>0</td>\n",
       "    </tr>\n",
       "    <tr>\n",
       "      <th>21</th>\n",
       "      <td>-1.164782</td>\n",
       "      <td>0.874384</td>\n",
       "      <td>0.818369</td>\n",
       "      <td>0.510145</td>\n",
       "      <td>-1.272834</td>\n",
       "      <td>0.766933</td>\n",
       "      <td>-0.044192</td>\n",
       "      <td>2.319503</td>\n",
       "      <td>-0.467466</td>\n",
       "      <td>-0.801096</td>\n",
       "      <td>0</td>\n",
       "    </tr>\n",
       "    <tr>\n",
       "      <th>22</th>\n",
       "      <td>-0.994955</td>\n",
       "      <td>-1.987655</td>\n",
       "      <td>0.171669</td>\n",
       "      <td>-0.860776</td>\n",
       "      <td>-0.822289</td>\n",
       "      <td>0.590328</td>\n",
       "      <td>0.755795</td>\n",
       "      <td>0.969469</td>\n",
       "      <td>-1.072573</td>\n",
       "      <td>0.619645</td>\n",
       "      <td>0</td>\n",
       "    </tr>\n",
       "    <tr>\n",
       "      <th>23</th>\n",
       "      <td>1.132875</td>\n",
       "      <td>-0.736699</td>\n",
       "      <td>-2.275858</td>\n",
       "      <td>1.635880</td>\n",
       "      <td>-0.149610</td>\n",
       "      <td>-0.037040</td>\n",
       "      <td>-0.335809</td>\n",
       "      <td>-0.163679</td>\n",
       "      <td>0.799924</td>\n",
       "      <td>-0.658005</td>\n",
       "      <td>1</td>\n",
       "    </tr>\n",
       "    <tr>\n",
       "      <th>24</th>\n",
       "      <td>0.553633</td>\n",
       "      <td>0.969652</td>\n",
       "      <td>-0.640984</td>\n",
       "      <td>-1.367843</td>\n",
       "      <td>1.268089</td>\n",
       "      <td>0.566298</td>\n",
       "      <td>0.422873</td>\n",
       "      <td>0.209496</td>\n",
       "      <td>-1.239697</td>\n",
       "      <td>0.077090</td>\n",
       "      <td>0</td>\n",
       "    </tr>\n",
       "    <tr>\n",
       "      <th>25</th>\n",
       "      <td>-1.287926</td>\n",
       "      <td>0.796890</td>\n",
       "      <td>0.964231</td>\n",
       "      <td>1.959940</td>\n",
       "      <td>1.972225</td>\n",
       "      <td>0.043477</td>\n",
       "      <td>0.542992</td>\n",
       "      <td>-0.153612</td>\n",
       "      <td>0.323974</td>\n",
       "      <td>1.116183</td>\n",
       "      <td>0</td>\n",
       "    </tr>\n",
       "    <tr>\n",
       "      <th>26</th>\n",
       "      <td>-0.323861</td>\n",
       "      <td>-0.991221</td>\n",
       "      <td>0.000366</td>\n",
       "      <td>0.974057</td>\n",
       "      <td>0.639803</td>\n",
       "      <td>1.778300</td>\n",
       "      <td>-0.218305</td>\n",
       "      <td>-0.710702</td>\n",
       "      <td>1.914874</td>\n",
       "      <td>0.321497</td>\n",
       "      <td>1</td>\n",
       "    </tr>\n",
       "    <tr>\n",
       "      <th>27</th>\n",
       "      <td>-0.128771</td>\n",
       "      <td>-0.695307</td>\n",
       "      <td>-1.052901</td>\n",
       "      <td>-0.054727</td>\n",
       "      <td>-0.218007</td>\n",
       "      <td>-0.679450</td>\n",
       "      <td>-1.682344</td>\n",
       "      <td>-1.296608</td>\n",
       "      <td>-0.586989</td>\n",
       "      <td>0.877280</td>\n",
       "      <td>1</td>\n",
       "    </tr>\n",
       "    <tr>\n",
       "      <th>28</th>\n",
       "      <td>-0.939247</td>\n",
       "      <td>-0.285971</td>\n",
       "      <td>-0.612030</td>\n",
       "      <td>-0.882996</td>\n",
       "      <td>0.357854</td>\n",
       "      <td>1.106127</td>\n",
       "      <td>0.033049</td>\n",
       "      <td>0.052382</td>\n",
       "      <td>-2.701361</td>\n",
       "      <td>-0.957683</td>\n",
       "      <td>0</td>\n",
       "    </tr>\n",
       "    <tr>\n",
       "      <th>29</th>\n",
       "      <td>1.531656</td>\n",
       "      <td>0.308442</td>\n",
       "      <td>-0.233201</td>\n",
       "      <td>1.215748</td>\n",
       "      <td>0.792063</td>\n",
       "      <td>0.728028</td>\n",
       "      <td>-1.288932</td>\n",
       "      <td>-1.947836</td>\n",
       "      <td>0.758620</td>\n",
       "      <td>0.213241</td>\n",
       "      <td>1</td>\n",
       "    </tr>\n",
       "    <tr>\n",
       "      <th>...</th>\n",
       "      <td>...</td>\n",
       "      <td>...</td>\n",
       "      <td>...</td>\n",
       "      <td>...</td>\n",
       "      <td>...</td>\n",
       "      <td>...</td>\n",
       "      <td>...</td>\n",
       "      <td>...</td>\n",
       "      <td>...</td>\n",
       "      <td>...</td>\n",
       "      <td>...</td>\n",
       "    </tr>\n",
       "    <tr>\n",
       "      <th>970</th>\n",
       "      <td>-1.092590</td>\n",
       "      <td>-0.427321</td>\n",
       "      <td>1.420622</td>\n",
       "      <td>1.643436</td>\n",
       "      <td>1.105013</td>\n",
       "      <td>-0.118534</td>\n",
       "      <td>0.253062</td>\n",
       "      <td>0.111280</td>\n",
       "      <td>-0.723191</td>\n",
       "      <td>2.285684</td>\n",
       "      <td>0</td>\n",
       "    </tr>\n",
       "    <tr>\n",
       "      <th>971</th>\n",
       "      <td>-2.049159</td>\n",
       "      <td>0.266015</td>\n",
       "      <td>-0.553350</td>\n",
       "      <td>1.682972</td>\n",
       "      <td>-2.058521</td>\n",
       "      <td>1.215624</td>\n",
       "      <td>1.149331</td>\n",
       "      <td>0.485726</td>\n",
       "      <td>-0.554716</td>\n",
       "      <td>-0.730912</td>\n",
       "      <td>0</td>\n",
       "    </tr>\n",
       "    <tr>\n",
       "      <th>972</th>\n",
       "      <td>0.664348</td>\n",
       "      <td>0.310275</td>\n",
       "      <td>1.596776</td>\n",
       "      <td>0.236329</td>\n",
       "      <td>1.558145</td>\n",
       "      <td>0.071995</td>\n",
       "      <td>-0.834003</td>\n",
       "      <td>0.104553</td>\n",
       "      <td>-1.286569</td>\n",
       "      <td>1.657803</td>\n",
       "      <td>0</td>\n",
       "    </tr>\n",
       "    <tr>\n",
       "      <th>973</th>\n",
       "      <td>-2.119896</td>\n",
       "      <td>0.890052</td>\n",
       "      <td>-0.027560</td>\n",
       "      <td>0.702566</td>\n",
       "      <td>-0.308356</td>\n",
       "      <td>-0.250975</td>\n",
       "      <td>1.322750</td>\n",
       "      <td>1.453298</td>\n",
       "      <td>-0.197014</td>\n",
       "      <td>-0.957779</td>\n",
       "      <td>0</td>\n",
       "    </tr>\n",
       "    <tr>\n",
       "      <th>974</th>\n",
       "      <td>-0.500890</td>\n",
       "      <td>-1.467881</td>\n",
       "      <td>-1.720976</td>\n",
       "      <td>-0.068558</td>\n",
       "      <td>-0.055904</td>\n",
       "      <td>-0.998115</td>\n",
       "      <td>1.305390</td>\n",
       "      <td>0.452292</td>\n",
       "      <td>0.379526</td>\n",
       "      <td>-0.837198</td>\n",
       "      <td>1</td>\n",
       "    </tr>\n",
       "    <tr>\n",
       "      <th>975</th>\n",
       "      <td>2.238760</td>\n",
       "      <td>-0.726363</td>\n",
       "      <td>-0.960185</td>\n",
       "      <td>0.298757</td>\n",
       "      <td>-0.534868</td>\n",
       "      <td>0.161135</td>\n",
       "      <td>1.481551</td>\n",
       "      <td>-0.385902</td>\n",
       "      <td>0.402761</td>\n",
       "      <td>0.257162</td>\n",
       "      <td>1</td>\n",
       "    </tr>\n",
       "    <tr>\n",
       "      <th>976</th>\n",
       "      <td>-0.253088</td>\n",
       "      <td>-1.070175</td>\n",
       "      <td>1.183553</td>\n",
       "      <td>-1.860383</td>\n",
       "      <td>1.674244</td>\n",
       "      <td>-0.457098</td>\n",
       "      <td>-0.910469</td>\n",
       "      <td>0.181316</td>\n",
       "      <td>-1.036693</td>\n",
       "      <td>-0.802952</td>\n",
       "      <td>0</td>\n",
       "    </tr>\n",
       "    <tr>\n",
       "      <th>977</th>\n",
       "      <td>-0.096739</td>\n",
       "      <td>0.962653</td>\n",
       "      <td>1.458516</td>\n",
       "      <td>-0.140186</td>\n",
       "      <td>1.390756</td>\n",
       "      <td>1.806112</td>\n",
       "      <td>0.474573</td>\n",
       "      <td>1.219110</td>\n",
       "      <td>-1.221264</td>\n",
       "      <td>0.082680</td>\n",
       "      <td>0</td>\n",
       "    </tr>\n",
       "    <tr>\n",
       "      <th>978</th>\n",
       "      <td>-1.994428</td>\n",
       "      <td>-0.538382</td>\n",
       "      <td>-0.976454</td>\n",
       "      <td>-0.710393</td>\n",
       "      <td>0.508747</td>\n",
       "      <td>0.625113</td>\n",
       "      <td>1.001561</td>\n",
       "      <td>-1.193159</td>\n",
       "      <td>-0.939098</td>\n",
       "      <td>-1.830024</td>\n",
       "      <td>0</td>\n",
       "    </tr>\n",
       "    <tr>\n",
       "      <th>979</th>\n",
       "      <td>1.579881</td>\n",
       "      <td>-0.446266</td>\n",
       "      <td>-1.440703</td>\n",
       "      <td>-0.364799</td>\n",
       "      <td>0.567161</td>\n",
       "      <td>0.225818</td>\n",
       "      <td>-0.518541</td>\n",
       "      <td>0.188968</td>\n",
       "      <td>1.175769</td>\n",
       "      <td>-1.509489</td>\n",
       "      <td>1</td>\n",
       "    </tr>\n",
       "    <tr>\n",
       "      <th>980</th>\n",
       "      <td>-0.212821</td>\n",
       "      <td>-1.389102</td>\n",
       "      <td>2.037408</td>\n",
       "      <td>0.693870</td>\n",
       "      <td>0.703562</td>\n",
       "      <td>-0.622200</td>\n",
       "      <td>-0.881123</td>\n",
       "      <td>0.306874</td>\n",
       "      <td>-2.137317</td>\n",
       "      <td>0.986439</td>\n",
       "      <td>0</td>\n",
       "    </tr>\n",
       "    <tr>\n",
       "      <th>981</th>\n",
       "      <td>0.777620</td>\n",
       "      <td>-0.373316</td>\n",
       "      <td>-0.473712</td>\n",
       "      <td>-1.799234</td>\n",
       "      <td>0.342740</td>\n",
       "      <td>2.275867</td>\n",
       "      <td>0.155346</td>\n",
       "      <td>-0.230044</td>\n",
       "      <td>-0.521091</td>\n",
       "      <td>-0.656865</td>\n",
       "      <td>0</td>\n",
       "    </tr>\n",
       "    <tr>\n",
       "      <th>982</th>\n",
       "      <td>-0.050027</td>\n",
       "      <td>-1.235786</td>\n",
       "      <td>-0.105953</td>\n",
       "      <td>0.012564</td>\n",
       "      <td>0.201000</td>\n",
       "      <td>-0.464177</td>\n",
       "      <td>-0.748513</td>\n",
       "      <td>-0.259253</td>\n",
       "      <td>1.015712</td>\n",
       "      <td>1.752788</td>\n",
       "      <td>1</td>\n",
       "    </tr>\n",
       "    <tr>\n",
       "      <th>983</th>\n",
       "      <td>1.073876</td>\n",
       "      <td>-1.962424</td>\n",
       "      <td>-0.876976</td>\n",
       "      <td>-0.686251</td>\n",
       "      <td>0.364578</td>\n",
       "      <td>-0.805103</td>\n",
       "      <td>0.934637</td>\n",
       "      <td>-1.355439</td>\n",
       "      <td>-0.372666</td>\n",
       "      <td>0.105382</td>\n",
       "      <td>1</td>\n",
       "    </tr>\n",
       "    <tr>\n",
       "      <th>984</th>\n",
       "      <td>0.041168</td>\n",
       "      <td>0.032588</td>\n",
       "      <td>-2.067900</td>\n",
       "      <td>0.804337</td>\n",
       "      <td>1.450942</td>\n",
       "      <td>-0.226436</td>\n",
       "      <td>-1.015921</td>\n",
       "      <td>0.942501</td>\n",
       "      <td>-0.633783</td>\n",
       "      <td>-2.185136</td>\n",
       "      <td>1</td>\n",
       "    </tr>\n",
       "    <tr>\n",
       "      <th>985</th>\n",
       "      <td>0.692676</td>\n",
       "      <td>-1.509723</td>\n",
       "      <td>0.085038</td>\n",
       "      <td>0.299556</td>\n",
       "      <td>-1.613375</td>\n",
       "      <td>-1.751818</td>\n",
       "      <td>-0.577131</td>\n",
       "      <td>-2.076531</td>\n",
       "      <td>0.358318</td>\n",
       "      <td>-0.636963</td>\n",
       "      <td>1</td>\n",
       "    </tr>\n",
       "    <tr>\n",
       "      <th>986</th>\n",
       "      <td>-2.121108</td>\n",
       "      <td>-0.140188</td>\n",
       "      <td>0.436901</td>\n",
       "      <td>-0.265337</td>\n",
       "      <td>1.076150</td>\n",
       "      <td>1.345130</td>\n",
       "      <td>-0.453666</td>\n",
       "      <td>0.199567</td>\n",
       "      <td>-0.767308</td>\n",
       "      <td>0.378845</td>\n",
       "      <td>0</td>\n",
       "    </tr>\n",
       "    <tr>\n",
       "      <th>987</th>\n",
       "      <td>-0.319126</td>\n",
       "      <td>-1.382602</td>\n",
       "      <td>-0.098888</td>\n",
       "      <td>-0.208905</td>\n",
       "      <td>0.023272</td>\n",
       "      <td>-0.466318</td>\n",
       "      <td>-0.416867</td>\n",
       "      <td>2.152512</td>\n",
       "      <td>0.150629</td>\n",
       "      <td>0.271522</td>\n",
       "      <td>0</td>\n",
       "    </tr>\n",
       "    <tr>\n",
       "      <th>988</th>\n",
       "      <td>-1.165931</td>\n",
       "      <td>0.936232</td>\n",
       "      <td>1.075620</td>\n",
       "      <td>0.227828</td>\n",
       "      <td>1.134342</td>\n",
       "      <td>0.410832</td>\n",
       "      <td>-0.224009</td>\n",
       "      <td>1.397082</td>\n",
       "      <td>-0.365324</td>\n",
       "      <td>0.890242</td>\n",
       "      <td>0</td>\n",
       "    </tr>\n",
       "    <tr>\n",
       "      <th>989</th>\n",
       "      <td>-1.620069</td>\n",
       "      <td>0.489926</td>\n",
       "      <td>-0.274300</td>\n",
       "      <td>0.533786</td>\n",
       "      <td>1.233058</td>\n",
       "      <td>-0.195697</td>\n",
       "      <td>0.453712</td>\n",
       "      <td>-0.872851</td>\n",
       "      <td>0.609338</td>\n",
       "      <td>0.905628</td>\n",
       "      <td>1</td>\n",
       "    </tr>\n",
       "    <tr>\n",
       "      <th>990</th>\n",
       "      <td>-0.254135</td>\n",
       "      <td>-0.668941</td>\n",
       "      <td>0.777185</td>\n",
       "      <td>3.467701</td>\n",
       "      <td>-0.877809</td>\n",
       "      <td>2.070765</td>\n",
       "      <td>1.344923</td>\n",
       "      <td>0.780459</td>\n",
       "      <td>-2.164150</td>\n",
       "      <td>-0.373942</td>\n",
       "      <td>0</td>\n",
       "    </tr>\n",
       "    <tr>\n",
       "      <th>991</th>\n",
       "      <td>0.528275</td>\n",
       "      <td>-0.416955</td>\n",
       "      <td>-1.026314</td>\n",
       "      <td>-0.212952</td>\n",
       "      <td>-1.214779</td>\n",
       "      <td>-0.308101</td>\n",
       "      <td>0.457688</td>\n",
       "      <td>0.549690</td>\n",
       "      <td>0.075773</td>\n",
       "      <td>1.541641</td>\n",
       "      <td>1</td>\n",
       "    </tr>\n",
       "    <tr>\n",
       "      <th>992</th>\n",
       "      <td>-0.483798</td>\n",
       "      <td>1.900701</td>\n",
       "      <td>0.538140</td>\n",
       "      <td>-0.140141</td>\n",
       "      <td>0.355732</td>\n",
       "      <td>-0.170696</td>\n",
       "      <td>-0.173750</td>\n",
       "      <td>1.858942</td>\n",
       "      <td>-0.611853</td>\n",
       "      <td>-0.426720</td>\n",
       "      <td>0</td>\n",
       "    </tr>\n",
       "    <tr>\n",
       "      <th>993</th>\n",
       "      <td>-0.746120</td>\n",
       "      <td>-0.251663</td>\n",
       "      <td>-0.360088</td>\n",
       "      <td>0.738086</td>\n",
       "      <td>2.136036</td>\n",
       "      <td>0.042642</td>\n",
       "      <td>-1.937310</td>\n",
       "      <td>-0.726449</td>\n",
       "      <td>1.044144</td>\n",
       "      <td>-1.342160</td>\n",
       "      <td>1</td>\n",
       "    </tr>\n",
       "    <tr>\n",
       "      <th>994</th>\n",
       "      <td>0.908385</td>\n",
       "      <td>-1.071156</td>\n",
       "      <td>-1.297545</td>\n",
       "      <td>0.397858</td>\n",
       "      <td>0.241989</td>\n",
       "      <td>-0.582658</td>\n",
       "      <td>-0.889448</td>\n",
       "      <td>0.313037</td>\n",
       "      <td>1.207480</td>\n",
       "      <td>0.256920</td>\n",
       "      <td>1</td>\n",
       "    </tr>\n",
       "    <tr>\n",
       "      <th>995</th>\n",
       "      <td>0.211653</td>\n",
       "      <td>-0.312490</td>\n",
       "      <td>0.065163</td>\n",
       "      <td>-0.259834</td>\n",
       "      <td>0.017567</td>\n",
       "      <td>-1.395721</td>\n",
       "      <td>-0.849486</td>\n",
       "      <td>-2.604264</td>\n",
       "      <td>-0.139347</td>\n",
       "      <td>-0.069602</td>\n",
       "      <td>1</td>\n",
       "    </tr>\n",
       "    <tr>\n",
       "      <th>996</th>\n",
       "      <td>-1.292453</td>\n",
       "      <td>-0.616901</td>\n",
       "      <td>0.369613</td>\n",
       "      <td>0.482648</td>\n",
       "      <td>1.569891</td>\n",
       "      <td>1.273495</td>\n",
       "      <td>0.362784</td>\n",
       "      <td>-1.242110</td>\n",
       "      <td>-0.679746</td>\n",
       "      <td>1.473448</td>\n",
       "      <td>0</td>\n",
       "    </tr>\n",
       "    <tr>\n",
       "      <th>997</th>\n",
       "      <td>0.641777</td>\n",
       "      <td>-0.513083</td>\n",
       "      <td>-0.179205</td>\n",
       "      <td>1.022255</td>\n",
       "      <td>-0.539703</td>\n",
       "      <td>-0.229680</td>\n",
       "      <td>-2.261339</td>\n",
       "      <td>-2.362494</td>\n",
       "      <td>-0.814261</td>\n",
       "      <td>0.111597</td>\n",
       "      <td>1</td>\n",
       "    </tr>\n",
       "    <tr>\n",
       "      <th>998</th>\n",
       "      <td>0.467072</td>\n",
       "      <td>-0.982786</td>\n",
       "      <td>-1.465194</td>\n",
       "      <td>-0.071465</td>\n",
       "      <td>2.368666</td>\n",
       "      <td>0.001269</td>\n",
       "      <td>-0.422041</td>\n",
       "      <td>-0.036777</td>\n",
       "      <td>0.406025</td>\n",
       "      <td>-0.855670</td>\n",
       "      <td>1</td>\n",
       "    </tr>\n",
       "    <tr>\n",
       "      <th>999</th>\n",
       "      <td>-0.387654</td>\n",
       "      <td>-0.595894</td>\n",
       "      <td>-1.431398</td>\n",
       "      <td>0.512722</td>\n",
       "      <td>-0.402552</td>\n",
       "      <td>-2.026512</td>\n",
       "      <td>-0.726253</td>\n",
       "      <td>-0.567789</td>\n",
       "      <td>0.336997</td>\n",
       "      <td>0.010350</td>\n",
       "      <td>1</td>\n",
       "    </tr>\n",
       "  </tbody>\n",
       "</table>\n",
       "<p>1000 rows × 11 columns</p>\n",
       "</div>"
      ],
      "text/plain": [
       "          WTT       PTI       EQW       SBI       LQE       QWG       FDJ  \\\n",
       "0   -0.123542  0.185907 -0.913431  0.319629 -1.033637 -2.308375 -0.798951   \n",
       "1   -1.084836 -0.430348 -1.025313  0.625388 -0.444847 -1.152706 -1.129797   \n",
       "2   -0.788702  0.339318  0.301511  0.755873  2.031693 -0.870156  2.599818   \n",
       "3    0.982841  1.060193 -0.621399  0.625299  0.452820 -0.267220  1.750208   \n",
       "4    1.139275 -0.640392 -0.709819 -0.057175  0.822886 -0.936773  0.596782   \n",
       "5   -0.399853  1.591707  0.928649  1.477102  0.308440  0.263270  1.239716   \n",
       "6   -0.017189  0.534949  0.826189 -1.723636 -0.147547 -2.010505 -0.206348   \n",
       "7   -0.461182 -0.100835  0.210071 -1.909291 -0.366695  0.396875  0.718122   \n",
       "8   -0.598054  1.360189 -0.172618 -1.502292 -1.192485  0.504787 -0.325981   \n",
       "9   -0.612806 -2.331876  0.197211  1.127356  1.636853 -0.225233  0.948308   \n",
       "10   1.158303  0.843392 -0.738540 -0.109278  0.019954 -0.883576 -0.725209   \n",
       "11   0.396126  1.169777  0.215062 -0.230956  1.707287 -0.592248 -0.163717   \n",
       "12  -0.921372  0.546474  0.565336 -1.239044 -0.085144 -1.467510  1.457694   \n",
       "13   0.012562  0.796571 -0.930673  0.973308  0.887731 -1.038074  0.211314   \n",
       "14  -0.512670 -0.692383 -0.470705  1.264935 -0.744117  1.951558  0.906128   \n",
       "15   0.386919 -0.270127 -0.804363 -0.944600 -0.419448  0.120341  0.980539   \n",
       "16  -0.808444  1.028545  0.561652 -0.030947  0.808052  1.092841 -1.467019   \n",
       "17  -0.172337  0.434208  1.704690 -1.507906  0.991544  0.612621  0.220380   \n",
       "18  -0.227533  0.628856  0.308635 -0.057883  0.972846  1.713172 -0.922135   \n",
       "19  -0.626517  1.089683 -0.037780 -0.305089  0.966241 -0.240596  0.552006   \n",
       "20   1.047297  2.130779  0.302225  0.840850  1.568143  1.511576 -0.259417   \n",
       "21  -1.164782  0.874384  0.818369  0.510145 -1.272834  0.766933 -0.044192   \n",
       "22  -0.994955 -1.987655  0.171669 -0.860776 -0.822289  0.590328  0.755795   \n",
       "23   1.132875 -0.736699 -2.275858  1.635880 -0.149610 -0.037040 -0.335809   \n",
       "24   0.553633  0.969652 -0.640984 -1.367843  1.268089  0.566298  0.422873   \n",
       "25  -1.287926  0.796890  0.964231  1.959940  1.972225  0.043477  0.542992   \n",
       "26  -0.323861 -0.991221  0.000366  0.974057  0.639803  1.778300 -0.218305   \n",
       "27  -0.128771 -0.695307 -1.052901 -0.054727 -0.218007 -0.679450 -1.682344   \n",
       "28  -0.939247 -0.285971 -0.612030 -0.882996  0.357854  1.106127  0.033049   \n",
       "29   1.531656  0.308442 -0.233201  1.215748  0.792063  0.728028 -1.288932   \n",
       "..        ...       ...       ...       ...       ...       ...       ...   \n",
       "970 -1.092590 -0.427321  1.420622  1.643436  1.105013 -0.118534  0.253062   \n",
       "971 -2.049159  0.266015 -0.553350  1.682972 -2.058521  1.215624  1.149331   \n",
       "972  0.664348  0.310275  1.596776  0.236329  1.558145  0.071995 -0.834003   \n",
       "973 -2.119896  0.890052 -0.027560  0.702566 -0.308356 -0.250975  1.322750   \n",
       "974 -0.500890 -1.467881 -1.720976 -0.068558 -0.055904 -0.998115  1.305390   \n",
       "975  2.238760 -0.726363 -0.960185  0.298757 -0.534868  0.161135  1.481551   \n",
       "976 -0.253088 -1.070175  1.183553 -1.860383  1.674244 -0.457098 -0.910469   \n",
       "977 -0.096739  0.962653  1.458516 -0.140186  1.390756  1.806112  0.474573   \n",
       "978 -1.994428 -0.538382 -0.976454 -0.710393  0.508747  0.625113  1.001561   \n",
       "979  1.579881 -0.446266 -1.440703 -0.364799  0.567161  0.225818 -0.518541   \n",
       "980 -0.212821 -1.389102  2.037408  0.693870  0.703562 -0.622200 -0.881123   \n",
       "981  0.777620 -0.373316 -0.473712 -1.799234  0.342740  2.275867  0.155346   \n",
       "982 -0.050027 -1.235786 -0.105953  0.012564  0.201000 -0.464177 -0.748513   \n",
       "983  1.073876 -1.962424 -0.876976 -0.686251  0.364578 -0.805103  0.934637   \n",
       "984  0.041168  0.032588 -2.067900  0.804337  1.450942 -0.226436 -1.015921   \n",
       "985  0.692676 -1.509723  0.085038  0.299556 -1.613375 -1.751818 -0.577131   \n",
       "986 -2.121108 -0.140188  0.436901 -0.265337  1.076150  1.345130 -0.453666   \n",
       "987 -0.319126 -1.382602 -0.098888 -0.208905  0.023272 -0.466318 -0.416867   \n",
       "988 -1.165931  0.936232  1.075620  0.227828  1.134342  0.410832 -0.224009   \n",
       "989 -1.620069  0.489926 -0.274300  0.533786  1.233058 -0.195697  0.453712   \n",
       "990 -0.254135 -0.668941  0.777185  3.467701 -0.877809  2.070765  1.344923   \n",
       "991  0.528275 -0.416955 -1.026314 -0.212952 -1.214779 -0.308101  0.457688   \n",
       "992 -0.483798  1.900701  0.538140 -0.140141  0.355732 -0.170696 -0.173750   \n",
       "993 -0.746120 -0.251663 -0.360088  0.738086  2.136036  0.042642 -1.937310   \n",
       "994  0.908385 -1.071156 -1.297545  0.397858  0.241989 -0.582658 -0.889448   \n",
       "995  0.211653 -0.312490  0.065163 -0.259834  0.017567 -1.395721 -0.849486   \n",
       "996 -1.292453 -0.616901  0.369613  0.482648  1.569891  1.273495  0.362784   \n",
       "997  0.641777 -0.513083 -0.179205  1.022255 -0.539703 -0.229680 -2.261339   \n",
       "998  0.467072 -0.982786 -1.465194 -0.071465  2.368666  0.001269 -0.422041   \n",
       "999 -0.387654 -0.595894 -1.431398  0.512722 -0.402552 -2.026512 -0.726253   \n",
       "\n",
       "          PJF       HQE       NXJ  TARGET CLASS  \n",
       "0   -1.482368 -0.949719 -0.643314             1  \n",
       "1   -0.202240 -1.828051  0.636759             0  \n",
       "2    0.285707 -0.682494 -0.377850             0  \n",
       "3    1.066491  1.241325 -1.026987             1  \n",
       "4   -1.472352  1.040772  0.276510             1  \n",
       "5    0.722608 -2.206816  0.809900             0  \n",
       "6   -1.096313 -0.158215 -1.233974             0  \n",
       "7    0.934523  0.228458  0.308929             0  \n",
       "8    0.834346 -0.136536 -0.670199             0  \n",
       "9   -1.644881  1.309064 -1.865764             1  \n",
       "10  -1.636366  0.297779  0.386875             1  \n",
       "11   0.572255 -2.023123  0.298564             0  \n",
       "12   0.075387 -1.060100  0.059053             0  \n",
       "13  -1.883052  1.306107 -1.194205             1  \n",
       "14   1.971821 -0.134587  0.312793             0  \n",
       "15   0.607923  0.202234  1.275846             1  \n",
       "16   1.689324 -1.065861 -0.558538             0  \n",
       "17   0.526007 -0.152626  0.624265             0  \n",
       "18  -1.195267 -0.621333  1.426053             0  \n",
       "19   2.039341 -1.414778 -1.293438             0  \n",
       "20   0.723631 -1.434843 -0.831651             0  \n",
       "21   2.319503 -0.467466 -0.801096             0  \n",
       "22   0.969469 -1.072573  0.619645             0  \n",
       "23  -0.163679  0.799924 -0.658005             1  \n",
       "24   0.209496 -1.239697  0.077090             0  \n",
       "25  -0.153612  0.323974  1.116183             0  \n",
       "26  -0.710702  1.914874  0.321497             1  \n",
       "27  -1.296608 -0.586989  0.877280             1  \n",
       "28   0.052382 -2.701361 -0.957683             0  \n",
       "29  -1.947836  0.758620  0.213241             1  \n",
       "..        ...       ...       ...           ...  \n",
       "970  0.111280 -0.723191  2.285684             0  \n",
       "971  0.485726 -0.554716 -0.730912             0  \n",
       "972  0.104553 -1.286569  1.657803             0  \n",
       "973  1.453298 -0.197014 -0.957779             0  \n",
       "974  0.452292  0.379526 -0.837198             1  \n",
       "975 -0.385902  0.402761  0.257162             1  \n",
       "976  0.181316 -1.036693 -0.802952             0  \n",
       "977  1.219110 -1.221264  0.082680             0  \n",
       "978 -1.193159 -0.939098 -1.830024             0  \n",
       "979  0.188968  1.175769 -1.509489             1  \n",
       "980  0.306874 -2.137317  0.986439             0  \n",
       "981 -0.230044 -0.521091 -0.656865             0  \n",
       "982 -0.259253  1.015712  1.752788             1  \n",
       "983 -1.355439 -0.372666  0.105382             1  \n",
       "984  0.942501 -0.633783 -2.185136             1  \n",
       "985 -2.076531  0.358318 -0.636963             1  \n",
       "986  0.199567 -0.767308  0.378845             0  \n",
       "987  2.152512  0.150629  0.271522             0  \n",
       "988  1.397082 -0.365324  0.890242             0  \n",
       "989 -0.872851  0.609338  0.905628             1  \n",
       "990  0.780459 -2.164150 -0.373942             0  \n",
       "991  0.549690  0.075773  1.541641             1  \n",
       "992  1.858942 -0.611853 -0.426720             0  \n",
       "993 -0.726449  1.044144 -1.342160             1  \n",
       "994  0.313037  1.207480  0.256920             1  \n",
       "995 -2.604264 -0.139347 -0.069602             1  \n",
       "996 -1.242110 -0.679746  1.473448             0  \n",
       "997 -2.362494 -0.814261  0.111597             1  \n",
       "998 -0.036777  0.406025 -0.855670             1  \n",
       "999 -0.567789  0.336997  0.010350             1  \n",
       "\n",
       "[1000 rows x 11 columns]"
      ]
     },
     "execution_count": 80,
     "metadata": {},
     "output_type": "execute_result"
    }
   ],
   "source": [
    "kn_fianl1#standa"
   ]
  },
  {
   "cell_type": "markdown",
   "metadata": {},
   "source": [
    "## MODEL"
   ]
  },
  {
   "cell_type": "code",
   "execution_count": 87,
   "metadata": {},
   "outputs": [
    {
     "data": {
      "text/plain": [
       "Index(['WTT', 'PTI', 'EQW', 'SBI', 'LQE', 'QWG', 'FDJ', 'PJF', 'HQE', 'NXJ',\n",
       "       'TARGET CLASS'],\n",
       "      dtype='object')"
      ]
     },
     "execution_count": 87,
     "metadata": {},
     "output_type": "execute_result"
    }
   ],
   "source": [
    "kn_fianl1.columns"
   ]
  },
  {
   "cell_type": "code",
   "execution_count": 82,
   "metadata": {},
   "outputs": [],
   "source": [
    "#spliting the dataset\n",
    "from sklearn.model_selection import train_test_split"
   ]
  },
  {
   "cell_type": "code",
   "execution_count": 160,
   "metadata": {},
   "outputs": [],
   "source": [
    "inp= ['WTT', 'PTI', 'EQW', 'SBI', 'LQE', 'QWG', 'FDJ', 'PJF', 'HQE', 'NXJ']\n",
    "X=kn_fianl1[inp]\n",
    "Y= kn_fianl1['TARGET CLASS']\n",
    "X_train,X_test,Y_train,Y_test=train_test_split(X,Y,test_size=0.30,random_state=101)"
   ]
  },
  {
   "cell_type": "code",
   "execution_count": 161,
   "metadata": {},
   "outputs": [
    {
     "data": {
      "text/plain": [
       "(700, 10)"
      ]
     },
     "execution_count": 161,
     "metadata": {},
     "output_type": "execute_result"
    },
    {
     "data": {
      "text/plain": [
       "(300, 10)"
      ]
     },
     "execution_count": 161,
     "metadata": {},
     "output_type": "execute_result"
    },
    {
     "data": {
      "text/plain": [
       "(700,)"
      ]
     },
     "execution_count": 161,
     "metadata": {},
     "output_type": "execute_result"
    },
    {
     "data": {
      "text/plain": [
       "(300,)"
      ]
     },
     "execution_count": 161,
     "metadata": {},
     "output_type": "execute_result"
    }
   ],
   "source": [
    "X_train.shape\n",
    "X_test.shape\n",
    "Y_train.shape\n",
    "Y_test.shape"
   ]
  },
  {
   "cell_type": "code",
   "execution_count": 162,
   "metadata": {},
   "outputs": [],
   "source": [
    "from sklearn.neighbors import KNeighborsClassifier"
   ]
  },
  {
   "cell_type": "code",
   "execution_count": 163,
   "metadata": {},
   "outputs": [
    {
     "data": {
      "text/plain": [
       "KNeighborsClassifier(algorithm='auto', leaf_size=30, metric='minkowski',\n",
       "                     metric_params=None, n_jobs=None, n_neighbors=1, p=2,\n",
       "                     weights='uniform')"
      ]
     },
     "execution_count": 163,
     "metadata": {},
     "output_type": "execute_result"
    }
   ],
   "source": [
    "kna= KNeighborsClassifier(n_neighbors=1)\n",
    "kna.fit(X_train,Y_train)"
   ]
  },
  {
   "cell_type": "code",
   "execution_count": 164,
   "metadata": {},
   "outputs": [],
   "source": [
    "Y_pred= kna.predict(X_test)"
   ]
  },
  {
   "cell_type": "code",
   "execution_count": 165,
   "metadata": {
    "collapsed": true
   },
   "outputs": [
    {
     "data": {
      "text/plain": [
       "array([0, 0, 0, 0, 0, 0, 1, 1, 1, 0, 1, 0, 0, 1, 0, 1, 1, 1, 1, 0, 0, 1,\n",
       "       0, 1, 1, 0, 0, 0, 1, 0, 0, 1, 1, 0, 1, 0, 0, 0, 1, 0, 1, 1, 0, 1,\n",
       "       1, 0, 1, 1, 0, 1, 0, 1, 1, 1, 0, 0, 0, 0, 0, 0, 0, 1, 1, 1, 0, 1,\n",
       "       0, 0, 0, 0, 0, 0, 1, 0, 0, 0, 0, 0, 1, 0, 1, 0, 0, 0, 1, 0, 0, 0,\n",
       "       1, 0, 0, 1, 0, 1, 0, 0, 1, 1, 0, 0, 0, 1, 1, 1, 0, 0, 0, 1, 1, 0,\n",
       "       0, 0, 0, 0, 1, 0, 1, 1, 0, 1, 1, 1, 0, 1, 1, 1, 0, 1, 0, 0, 0, 1,\n",
       "       1, 0, 1, 0, 1, 1, 1, 0, 0, 1, 1, 0, 1, 0, 0, 0, 1, 1, 1, 0, 1, 0,\n",
       "       1, 0, 0, 1, 0, 0, 0, 1, 0, 0, 1, 0, 1, 0, 0, 0, 0, 1, 1, 1, 0, 0,\n",
       "       1, 1, 0, 0, 1, 0, 1, 0, 1, 0, 1, 1, 0, 1, 1, 1, 0, 1, 1, 1, 0, 1,\n",
       "       0, 1, 0, 0, 1, 1, 0, 1, 0, 0, 0, 0, 1, 1, 1, 1, 0, 0, 0, 1, 0, 0,\n",
       "       0, 1, 0, 0, 1, 1, 0, 1, 0, 0, 1, 1, 0, 1, 0, 1, 0, 0, 1, 0, 0, 1,\n",
       "       0, 0, 1, 0, 0, 0, 0, 1, 0, 0, 0, 0, 1, 1, 0, 1, 1, 0, 1, 0, 1, 1,\n",
       "       1, 0, 0, 1, 1, 0, 0, 0, 0, 0, 0, 0, 1, 0, 1, 1, 1, 0, 1, 0, 0, 0,\n",
       "       0, 1, 1, 0, 0, 0, 1, 1, 1, 0, 1, 1, 1, 0], dtype=int64)"
      ]
     },
     "execution_count": 165,
     "metadata": {},
     "output_type": "execute_result"
    }
   ],
   "source": [
    "Y_pred"
   ]
  },
  {
   "cell_type": "code",
   "execution_count": 166,
   "metadata": {},
   "outputs": [],
   "source": [
    "from sklearn import metrics"
   ]
  },
  {
   "cell_type": "code",
   "execution_count": 167,
   "metadata": {
    "collapsed": true
   },
   "outputs": [
    {
     "name": "stdout",
     "output_type": "stream",
     "text": [
      "0.9233333333333333\n",
      "---------------------------------------------------\n",
      "\n",
      "\n",
      "\n",
      "\n",
      "\n",
      "[[151   8]\n",
      " [ 15 126]]\n",
      "---------------------------------------------------\n",
      "\n",
      "\n",
      "\n",
      "\n",
      "\n",
      "              precision    recall  f1-score   support\n",
      "\n",
      "           0       0.91      0.95      0.93       159\n",
      "           1       0.94      0.89      0.92       141\n",
      "\n",
      "    accuracy                           0.92       300\n",
      "   macro avg       0.92      0.92      0.92       300\n",
      "weighted avg       0.92      0.92      0.92       300\n",
      "\n"
     ]
    }
   ],
   "source": [
    "print(metrics.accuracy_score(Y_test,Y_pred))\n",
    "print('---------------------------------------------------\\n\\n\\n\\n\\n')\n",
    "\n",
    "print(metrics.confusion_matrix(Y_test,Y_pred))\n",
    "print('---------------------------------------------------\\n\\n\\n\\n\\n')\n",
    "print(metrics.classification_report(Y_test,Y_pred))"
   ]
  },
  {
   "cell_type": "markdown",
   "metadata": {},
   "source": [
    "# Applying grid Search cv"
   ]
  },
  {
   "cell_type": "code",
   "execution_count": 168,
   "metadata": {},
   "outputs": [],
   "source": [
    "from sklearn.model_selection import GridSearchCV\n",
    "kng = KNeighborsClassifier()"
   ]
  },
  {
   "cell_type": "code",
   "execution_count": 169,
   "metadata": {},
   "outputs": [],
   "source": [
    "params={\"n_neighbors\":[2,3,4,5,6,7,8,9,10,11,12,13,14,15,16,17,18,19]}"
   ]
  },
  {
   "cell_type": "code",
   "execution_count": 170,
   "metadata": {},
   "outputs": [],
   "source": [
    "model=GridSearchCV(kng, params, cv=5)"
   ]
  },
  {
   "cell_type": "code",
   "execution_count": 171,
   "metadata": {
    "collapsed": true
   },
   "outputs": [
    {
     "data": {
      "text/plain": [
       "GridSearchCV(cv=5, error_score='raise-deprecating',\n",
       "             estimator=KNeighborsClassifier(algorithm='auto', leaf_size=30,\n",
       "                                            metric='minkowski',\n",
       "                                            metric_params=None, n_jobs=None,\n",
       "                                            n_neighbors=5, p=2,\n",
       "                                            weights='uniform'),\n",
       "             iid='warn', n_jobs=None,\n",
       "             param_grid={'n_neighbors': [2, 3, 4, 5, 6, 7, 8, 9, 10, 11, 12, 13,\n",
       "                                         14, 15, 16, 17, 18, 19]},\n",
       "             pre_dispatch='2*n_jobs', refit=True, return_train_score=False,\n",
       "             scoring=None, verbose=0)"
      ]
     },
     "execution_count": 171,
     "metadata": {},
     "output_type": "execute_result"
    }
   ],
   "source": [
    "model\n"
   ]
  },
  {
   "cell_type": "code",
   "execution_count": 172,
   "metadata": {
    "collapsed": true
   },
   "outputs": [
    {
     "data": {
      "text/plain": [
       "GridSearchCV(cv=5, error_score='raise-deprecating',\n",
       "             estimator=KNeighborsClassifier(algorithm='auto', leaf_size=30,\n",
       "                                            metric='minkowski',\n",
       "                                            metric_params=None, n_jobs=None,\n",
       "                                            n_neighbors=5, p=2,\n",
       "                                            weights='uniform'),\n",
       "             iid='warn', n_jobs=None,\n",
       "             param_grid={'n_neighbors': [2, 3, 4, 5, 6, 7, 8, 9, 10, 11, 12, 13,\n",
       "                                         14, 15, 16, 17, 18, 19]},\n",
       "             pre_dispatch='2*n_jobs', refit=True, return_train_score=False,\n",
       "             scoring=None, verbose=0)"
      ]
     },
     "execution_count": 172,
     "metadata": {},
     "output_type": "execute_result"
    }
   ],
   "source": [
    "model.fit(X_train,Y_train)"
   ]
  },
  {
   "cell_type": "code",
   "execution_count": 173,
   "metadata": {},
   "outputs": [
    {
     "data": {
      "text/plain": [
       "{'n_neighbors': 10}"
      ]
     },
     "execution_count": 173,
     "metadata": {},
     "output_type": "execute_result"
    }
   ],
   "source": [
    "model.best_params_"
   ]
  },
  {
   "cell_type": "code",
   "execution_count": 175,
   "metadata": {},
   "outputs": [
    {
     "data": {
      "text/plain": [
       "KNeighborsClassifier(algorithm='auto', leaf_size=30, metric='minkowski',\n",
       "                     metric_params=None, n_jobs=None, n_neighbors=10, p=2,\n",
       "                     weights='uniform')"
      ]
     },
     "execution_count": 175,
     "metadata": {},
     "output_type": "execute_result"
    }
   ],
   "source": [
    "kn_10 = KNeighborsClassifier(n_neighbors=10)\n",
    "kn_10.fit(X_train,Y_train)"
   ]
  },
  {
   "cell_type": "code",
   "execution_count": 178,
   "metadata": {},
   "outputs": [],
   "source": [
    "pred_10=kn_10.predict(X_test)"
   ]
  },
  {
   "cell_type": "code",
   "execution_count": 177,
   "metadata": {},
   "outputs": [
    {
     "name": "stdout",
     "output_type": "stream",
     "text": [
      "0.9433333333333334\n"
     ]
    }
   ],
   "source": [
    "print(metrics.accuracy_score(Y_test,kn_10.predict(X_test)))"
   ]
  },
  {
   "cell_type": "code",
   "execution_count": 179,
   "metadata": {},
   "outputs": [
    {
     "data": {
      "text/plain": [
       "0.44666666666666666"
      ]
     },
     "execution_count": 179,
     "metadata": {},
     "output_type": "execute_result"
    }
   ],
   "source": [
    "np.mean(pred_10)"
   ]
  },
  {
   "cell_type": "code",
   "execution_count": 191,
   "metadata": {
    "collapsed": true
   },
   "outputs": [
    {
     "data": {
      "text/plain": [
       "KNeighborsClassifier(algorithm='auto', leaf_size=30, metric='minkowski',\n",
       "                     metric_params=None, n_jobs=None, n_neighbors=1, p=2,\n",
       "                     weights='uniform')"
      ]
     },
     "execution_count": 191,
     "metadata": {},
     "output_type": "execute_result"
    },
    {
     "data": {
      "text/plain": [
       "KNeighborsClassifier(algorithm='auto', leaf_size=30, metric='minkowski',\n",
       "                     metric_params=None, n_jobs=None, n_neighbors=2, p=2,\n",
       "                     weights='uniform')"
      ]
     },
     "execution_count": 191,
     "metadata": {},
     "output_type": "execute_result"
    },
    {
     "data": {
      "text/plain": [
       "KNeighborsClassifier(algorithm='auto', leaf_size=30, metric='minkowski',\n",
       "                     metric_params=None, n_jobs=None, n_neighbors=3, p=2,\n",
       "                     weights='uniform')"
      ]
     },
     "execution_count": 191,
     "metadata": {},
     "output_type": "execute_result"
    },
    {
     "data": {
      "text/plain": [
       "KNeighborsClassifier(algorithm='auto', leaf_size=30, metric='minkowski',\n",
       "                     metric_params=None, n_jobs=None, n_neighbors=4, p=2,\n",
       "                     weights='uniform')"
      ]
     },
     "execution_count": 191,
     "metadata": {},
     "output_type": "execute_result"
    },
    {
     "data": {
      "text/plain": [
       "KNeighborsClassifier(algorithm='auto', leaf_size=30, metric='minkowski',\n",
       "                     metric_params=None, n_jobs=None, n_neighbors=5, p=2,\n",
       "                     weights='uniform')"
      ]
     },
     "execution_count": 191,
     "metadata": {},
     "output_type": "execute_result"
    },
    {
     "data": {
      "text/plain": [
       "KNeighborsClassifier(algorithm='auto', leaf_size=30, metric='minkowski',\n",
       "                     metric_params=None, n_jobs=None, n_neighbors=6, p=2,\n",
       "                     weights='uniform')"
      ]
     },
     "execution_count": 191,
     "metadata": {},
     "output_type": "execute_result"
    },
    {
     "data": {
      "text/plain": [
       "KNeighborsClassifier(algorithm='auto', leaf_size=30, metric='minkowski',\n",
       "                     metric_params=None, n_jobs=None, n_neighbors=7, p=2,\n",
       "                     weights='uniform')"
      ]
     },
     "execution_count": 191,
     "metadata": {},
     "output_type": "execute_result"
    },
    {
     "data": {
      "text/plain": [
       "KNeighborsClassifier(algorithm='auto', leaf_size=30, metric='minkowski',\n",
       "                     metric_params=None, n_jobs=None, n_neighbors=8, p=2,\n",
       "                     weights='uniform')"
      ]
     },
     "execution_count": 191,
     "metadata": {},
     "output_type": "execute_result"
    },
    {
     "data": {
      "text/plain": [
       "KNeighborsClassifier(algorithm='auto', leaf_size=30, metric='minkowski',\n",
       "                     metric_params=None, n_jobs=None, n_neighbors=9, p=2,\n",
       "                     weights='uniform')"
      ]
     },
     "execution_count": 191,
     "metadata": {},
     "output_type": "execute_result"
    },
    {
     "data": {
      "text/plain": [
       "KNeighborsClassifier(algorithm='auto', leaf_size=30, metric='minkowski',\n",
       "                     metric_params=None, n_jobs=None, n_neighbors=10, p=2,\n",
       "                     weights='uniform')"
      ]
     },
     "execution_count": 191,
     "metadata": {},
     "output_type": "execute_result"
    },
    {
     "data": {
      "text/plain": [
       "KNeighborsClassifier(algorithm='auto', leaf_size=30, metric='minkowski',\n",
       "                     metric_params=None, n_jobs=None, n_neighbors=11, p=2,\n",
       "                     weights='uniform')"
      ]
     },
     "execution_count": 191,
     "metadata": {},
     "output_type": "execute_result"
    },
    {
     "data": {
      "text/plain": [
       "KNeighborsClassifier(algorithm='auto', leaf_size=30, metric='minkowski',\n",
       "                     metric_params=None, n_jobs=None, n_neighbors=12, p=2,\n",
       "                     weights='uniform')"
      ]
     },
     "execution_count": 191,
     "metadata": {},
     "output_type": "execute_result"
    },
    {
     "data": {
      "text/plain": [
       "KNeighborsClassifier(algorithm='auto', leaf_size=30, metric='minkowski',\n",
       "                     metric_params=None, n_jobs=None, n_neighbors=13, p=2,\n",
       "                     weights='uniform')"
      ]
     },
     "execution_count": 191,
     "metadata": {},
     "output_type": "execute_result"
    },
    {
     "data": {
      "text/plain": [
       "KNeighborsClassifier(algorithm='auto', leaf_size=30, metric='minkowski',\n",
       "                     metric_params=None, n_jobs=None, n_neighbors=14, p=2,\n",
       "                     weights='uniform')"
      ]
     },
     "execution_count": 191,
     "metadata": {},
     "output_type": "execute_result"
    },
    {
     "data": {
      "text/plain": [
       "KNeighborsClassifier(algorithm='auto', leaf_size=30, metric='minkowski',\n",
       "                     metric_params=None, n_jobs=None, n_neighbors=15, p=2,\n",
       "                     weights='uniform')"
      ]
     },
     "execution_count": 191,
     "metadata": {},
     "output_type": "execute_result"
    },
    {
     "data": {
      "text/plain": [
       "KNeighborsClassifier(algorithm='auto', leaf_size=30, metric='minkowski',\n",
       "                     metric_params=None, n_jobs=None, n_neighbors=16, p=2,\n",
       "                     weights='uniform')"
      ]
     },
     "execution_count": 191,
     "metadata": {},
     "output_type": "execute_result"
    },
    {
     "data": {
      "text/plain": [
       "KNeighborsClassifier(algorithm='auto', leaf_size=30, metric='minkowski',\n",
       "                     metric_params=None, n_jobs=None, n_neighbors=17, p=2,\n",
       "                     weights='uniform')"
      ]
     },
     "execution_count": 191,
     "metadata": {},
     "output_type": "execute_result"
    },
    {
     "data": {
      "text/plain": [
       "KNeighborsClassifier(algorithm='auto', leaf_size=30, metric='minkowski',\n",
       "                     metric_params=None, n_jobs=None, n_neighbors=18, p=2,\n",
       "                     weights='uniform')"
      ]
     },
     "execution_count": 191,
     "metadata": {},
     "output_type": "execute_result"
    },
    {
     "data": {
      "text/plain": [
       "KNeighborsClassifier(algorithm='auto', leaf_size=30, metric='minkowski',\n",
       "                     metric_params=None, n_jobs=None, n_neighbors=19, p=2,\n",
       "                     weights='uniform')"
      ]
     },
     "execution_count": 191,
     "metadata": {},
     "output_type": "execute_result"
    },
    {
     "data": {
      "text/plain": [
       "KNeighborsClassifier(algorithm='auto', leaf_size=30, metric='minkowski',\n",
       "                     metric_params=None, n_jobs=None, n_neighbors=20, p=2,\n",
       "                     weights='uniform')"
      ]
     },
     "execution_count": 191,
     "metadata": {},
     "output_type": "execute_result"
    }
   ],
   "source": [
    "error_rate=[]\n",
    "for i in range(1,21):\n",
    "    knn=KNeighborsClassifier(n_neighbors=i)\n",
    "    knn.fit(X_train,Y_train)\n",
    "    predictions_i=knn.predict(X_test)\n",
    "    error_rate.append(np.mean(predictions_i != Y_test))"
   ]
  },
  {
   "cell_type": "raw",
   "metadata": {},
   "source": []
  },
  {
   "cell_type": "code",
   "execution_count": 192,
   "metadata": {
    "collapsed": true
   },
   "outputs": [
    {
     "data": {
      "image/png": "[encoded data removed]",
      "text/plain": [
       "<Figure size 1440x720 with 1 Axes>"
      ]
     },
     "metadata": {},
     "output_type": "display_data"
    }
   ],
   "source": [
    "plt.figure(figsize=(20,10))\n",
    "plt.plot(range(1,21), error_rate, color='blue',\n",
    "         linestyle='--', marker='o', markerfacecolor='aqua',\n",
    "         markersize=10)\n",
    "plt.xlabel('k-value')\n",
    "plt.ylabel(\"Error_rate\")\n",
    "plt.title('ERROR rate Vs K value')\n",
    "plt.show();"
   ]
  },
  {
   "cell_type": "code",
   "execution_count": 190,
   "metadata": {
    "collapsed": true
   },
   "outputs": [
    {
     "data": {
      "text/plain": [
       "KNeighborsClassifier(algorithm='auto', leaf_size=30, metric='minkowski',\n",
       "                     metric_params=None, n_jobs=None, n_neighbors=1, p=2,\n",
       "                     weights='uniform')"
      ]
     },
     "execution_count": 190,
     "metadata": {},
     "output_type": "execute_result"
    },
    {
     "data": {
      "text/plain": [
       "KNeighborsClassifier(algorithm='auto', leaf_size=30, metric='minkowski',\n",
       "                     metric_params=None, n_jobs=None, n_neighbors=2, p=2,\n",
       "                     weights='uniform')"
      ]
     },
     "execution_count": 190,
     "metadata": {},
     "output_type": "execute_result"
    },
    {
     "data": {
      "text/plain": [
       "KNeighborsClassifier(algorithm='auto', leaf_size=30, metric='minkowski',\n",
       "                     metric_params=None, n_jobs=None, n_neighbors=3, p=2,\n",
       "                     weights='uniform')"
      ]
     },
     "execution_count": 190,
     "metadata": {},
     "output_type": "execute_result"
    },
    {
     "data": {
      "text/plain": [
       "KNeighborsClassifier(algorithm='auto', leaf_size=30, metric='minkowski',\n",
       "                     metric_params=None, n_jobs=None, n_neighbors=4, p=2,\n",
       "                     weights='uniform')"
      ]
     },
     "execution_count": 190,
     "metadata": {},
     "output_type": "execute_result"
    },
    {
     "data": {
      "text/plain": [
       "KNeighborsClassifier(algorithm='auto', leaf_size=30, metric='minkowski',\n",
       "                     metric_params=None, n_jobs=None, n_neighbors=5, p=2,\n",
       "                     weights='uniform')"
      ]
     },
     "execution_count": 190,
     "metadata": {},
     "output_type": "execute_result"
    },
    {
     "data": {
      "text/plain": [
       "KNeighborsClassifier(algorithm='auto', leaf_size=30, metric='minkowski',\n",
       "                     metric_params=None, n_jobs=None, n_neighbors=6, p=2,\n",
       "                     weights='uniform')"
      ]
     },
     "execution_count": 190,
     "metadata": {},
     "output_type": "execute_result"
    },
    {
     "data": {
      "text/plain": [
       "KNeighborsClassifier(algorithm='auto', leaf_size=30, metric='minkowski',\n",
       "                     metric_params=None, n_jobs=None, n_neighbors=7, p=2,\n",
       "                     weights='uniform')"
      ]
     },
     "execution_count": 190,
     "metadata": {},
     "output_type": "execute_result"
    },
    {
     "data": {
      "text/plain": [
       "KNeighborsClassifier(algorithm='auto', leaf_size=30, metric='minkowski',\n",
       "                     metric_params=None, n_jobs=None, n_neighbors=8, p=2,\n",
       "                     weights='uniform')"
      ]
     },
     "execution_count": 190,
     "metadata": {},
     "output_type": "execute_result"
    },
    {
     "data": {
      "text/plain": [
       "KNeighborsClassifier(algorithm='auto', leaf_size=30, metric='minkowski',\n",
       "                     metric_params=None, n_jobs=None, n_neighbors=9, p=2,\n",
       "                     weights='uniform')"
      ]
     },
     "execution_count": 190,
     "metadata": {},
     "output_type": "execute_result"
    },
    {
     "data": {
      "text/plain": [
       "KNeighborsClassifier(algorithm='auto', leaf_size=30, metric='minkowski',\n",
       "                     metric_params=None, n_jobs=None, n_neighbors=10, p=2,\n",
       "                     weights='uniform')"
      ]
     },
     "execution_count": 190,
     "metadata": {},
     "output_type": "execute_result"
    },
    {
     "data": {
      "text/plain": [
       "KNeighborsClassifier(algorithm='auto', leaf_size=30, metric='minkowski',\n",
       "                     metric_params=None, n_jobs=None, n_neighbors=11, p=2,\n",
       "                     weights='uniform')"
      ]
     },
     "execution_count": 190,
     "metadata": {},
     "output_type": "execute_result"
    },
    {
     "data": {
      "text/plain": [
       "KNeighborsClassifier(algorithm='auto', leaf_size=30, metric='minkowski',\n",
       "                     metric_params=None, n_jobs=None, n_neighbors=12, p=2,\n",
       "                     weights='uniform')"
      ]
     },
     "execution_count": 190,
     "metadata": {},
     "output_type": "execute_result"
    },
    {
     "data": {
      "text/plain": [
       "KNeighborsClassifier(algorithm='auto', leaf_size=30, metric='minkowski',\n",
       "                     metric_params=None, n_jobs=None, n_neighbors=13, p=2,\n",
       "                     weights='uniform')"
      ]
     },
     "execution_count": 190,
     "metadata": {},
     "output_type": "execute_result"
    },
    {
     "data": {
      "text/plain": [
       "KNeighborsClassifier(algorithm='auto', leaf_size=30, metric='minkowski',\n",
       "                     metric_params=None, n_jobs=None, n_neighbors=14, p=2,\n",
       "                     weights='uniform')"
      ]
     },
     "execution_count": 190,
     "metadata": {},
     "output_type": "execute_result"
    },
    {
     "data": {
      "text/plain": [
       "KNeighborsClassifier(algorithm='auto', leaf_size=30, metric='minkowski',\n",
       "                     metric_params=None, n_jobs=None, n_neighbors=15, p=2,\n",
       "                     weights='uniform')"
      ]
     },
     "execution_count": 190,
     "metadata": {},
     "output_type": "execute_result"
    },
    {
     "data": {
      "text/plain": [
       "KNeighborsClassifier(algorithm='auto', leaf_size=30, metric='minkowski',\n",
       "                     metric_params=None, n_jobs=None, n_neighbors=16, p=2,\n",
       "                     weights='uniform')"
      ]
     },
     "execution_count": 190,
     "metadata": {},
     "output_type": "execute_result"
    },
    {
     "data": {
      "text/plain": [
       "KNeighborsClassifier(algorithm='auto', leaf_size=30, metric='minkowski',\n",
       "                     metric_params=None, n_jobs=None, n_neighbors=17, p=2,\n",
       "                     weights='uniform')"
      ]
     },
     "execution_count": 190,
     "metadata": {},
     "output_type": "execute_result"
    },
    {
     "data": {
      "text/plain": [
       "KNeighborsClassifier(algorithm='auto', leaf_size=30, metric='minkowski',\n",
       "                     metric_params=None, n_jobs=None, n_neighbors=18, p=2,\n",
       "                     weights='uniform')"
      ]
     },
     "execution_count": 190,
     "metadata": {},
     "output_type": "execute_result"
    },
    {
     "data": {
      "text/plain": [
       "KNeighborsClassifier(algorithm='auto', leaf_size=30, metric='minkowski',\n",
       "                     metric_params=None, n_jobs=None, n_neighbors=19, p=2,\n",
       "                     weights='uniform')"
      ]
     },
     "execution_count": 190,
     "metadata": {},
     "output_type": "execute_result"
    },
    {
     "data": {
      "text/plain": [
       "KNeighborsClassifier(algorithm='auto', leaf_size=30, metric='minkowski',\n",
       "                     metric_params=None, n_jobs=None, n_neighbors=20, p=2,\n",
       "                     weights='uniform')"
      ]
     },
     "execution_count": 190,
     "metadata": {},
     "output_type": "execute_result"
    }
   ],
   "source": [
    "accuracy = []\n",
    "for i in range(1,21):\n",
    "    knnn=KNeighborsClassifier(n_neighbors=i)\n",
    "    knnn.fit(X_train,Y_train)\n",
    "    predict=knnn.predict(X_test)\n",
    "    accuracy.append(np.mean(predict==Y_test ))"
   ]
  },
  {
   "cell_type": "code",
   "execution_count": 194,
   "metadata": {
    "collapsed": true
   },
   "outputs": [
    {
     "data": {
      "image/png": "[encoded data removed]",
      "text/plain": [
       "<Figure size 1440x720 with 1 Axes>"
      ]
     },
     "metadata": {},
     "output_type": "display_data"
    }
   ],
   "source": [
    "plt.figure(figsize=(20,10))\n",
    "plt.plot(range(1,21),accuracy, color='blue',\n",
    "         linestyle='--', marker='o', markerfacecolor='aqua',\n",
    "         markersize=10)\n",
    "plt.xlabel('k-value')\n",
    "plt.ylabel(\"accuracy\")\n",
    "plt.title('accuracy Vs K value')\n",
    "plt.show();"
   ]
  },
  {
   "cell_type": "markdown",
   "metadata": {},
   "source": [
    "## `If k value increases Error Rate will decreases and Acuuracy Will Increases`"
   ]
  },
  {
   "cell_type": "code",
   "execution_count": null,
   "metadata": {},
   "outputs": [],
   "source": []
  }
 ],
 "metadata": {
  "kernelspec": {
   "display_name": "Python 3",
   "language": "python",
   "name": "python3"
  },
  "language_info": {
   "codemirror_mode": {
    "name": "ipython",
    "version": 3
   },
   "file_extension": ".py",
   "mimetype": "text/x-python",
   "name": "python",
   "nbconvert_exporter": "python",
   "pygments_lexer": "ipython3",
   "version": "3.7.3"
  }
 },
 "nbformat": 4,
 "nbformat_minor": 2
}
